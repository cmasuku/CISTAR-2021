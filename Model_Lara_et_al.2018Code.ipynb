{
 "cells": [
  {
   "cell_type": "markdown",
   "id": "18fd850d",
   "metadata": {},
   "source": [
    "## Model Initialization"
   ]
  },
  {
   "cell_type": "code",
   "execution_count": 2,
   "id": "cf7c27f9",
   "metadata": {},
   "outputs": [],
   "source": [
    "from pyomo.environ import *\n",
    "\n",
    "m = ConcreteModel() # concrete model object"
   ]
  },
  {
   "cell_type": "markdown",
   "id": "047f6df9",
   "metadata": {},
   "source": [
    " "
   ]
  },
  {
   "cell_type": "markdown",
   "id": "860b3ee2",
   "metadata": {},
   "source": [
    "#### Set Declerations"
   ]
  },
  {
   "cell_type": "code",
   "execution_count": null,
   "id": "8dae96f1",
   "metadata": {},
   "outputs": [],
   "source": [
    "m.R = Set( doc = 'set of regions') \n",
    "\n",
    "def DR_init(m):\n",
    "    if r != r1:\n",
    "    return ((r,r1) for r in model.R for r1 in model.R)\n",
    "m.DR = Set(m.R, initialize = DR_init, doc = \"difference between r and r'\") #revise as needed\n",
    "\n",
    "m.I = Set( doc = 'set of generator clusters')\n",
    "\n",
    "m.I_r = Set(m.R, within = m.I, doc = 'set of generator clusters in region r')\n",
    "\n",
    "m.I_old = Set(m.R, within = m.I_r, doc = 'set of existing generator clusters in region r at the beginning of the time horizon')\n",
    "    \n",
    "m.I_new = Set(m.R, within = m.I_r, doc = 'set of potential generator clustors in region r')\n",
    "\n",
    "m.I_TH = Set(m.R, within = m.I_r, doc = 'set of thermal generator clustors in region r')\n",
    "\n",
    "m.I_RN = Set(m.R, within = m.I_r, doc = 'set of renewable generator clustors in region r')\n",
    "\n",
    "m.I_Told = Set(m.R, within = m.I_TH,  doc = 'set of existing thermal generator clusters in region r')\n",
    "\n",
    "m.I_Tnew = Set(m.R, within = m.I_TH, doc = 'set of potential thermal generator clustors in region r')\n",
    "\n",
    "m.I_Rold = Set(m.R, within = m.I_RN, doc = 'set of existing renewable generator clusters in region r') \n",
    "\n",
    "m.I_Rnew = Set(m.R, within = m.I_RN, doc = 'set of potential renewable generator clusters in region r')\n",
    "\n",
    "m.J = Set( doc = 'set of storage unit clusters')\n",
    "\n",
    "m.T = Set( doc = 'set of time periods within the planning horizon')\n",
    "\n",
    "m.D = Set( doc = 'set of representative days in each year t')\n",
    "\n",
    "m.S = Set( doc = 'set of sub-periods of time per representative day d in year t')\n",
    "\n",
    "m.K = Set( doc = 'set of iterations in the Nested Decomposition algorithm')"
   ]
  },
  {
   "cell_type": "markdown",
   "id": "805aab7f",
   "metadata": {},
   "source": [
    " "
   ]
  },
  {
   "cell_type": "markdown",
   "id": "4f68a7cb",
   "metadata": {},
   "source": [
    "#### Deterministic Parameters Declerations"
   ]
  },
  {
   "cell_type": "code",
   "execution_count": null,
   "id": "c39c263d",
   "metadata": {},
   "outputs": [],
   "source": [
    "m.L = Param(m.R,m.T,m.D,m.s, initialize = , doc = 'load demand in r, in s, of d, of t') \n",
    "\n",
    "m.L_max = Param(m.T, initialize = , doc = 'peak load in year t (MW)') \n",
    "\n",
    "m.W = Param(initialize = , doc = 'weight of representative day(d)')\n",
    "\n",
    "m.Hs = Param(initialize = , doc = 'duration of sub-period s (h)' ) \n",
    "\n",
    "m.Qg_np_ = Param(m.I,m.R, initialize = , doc = 'nominal capacity of a generator in cluster i in region r (MW)') \n",
    "\n",
    "m.Ng_old = Param(m.I_old,m.R, initialize = , doc = '# of existing generators at start of time horizon')\n",
    "\n",
    "m.Ng_max = Param(m.I_new, initialize = , doc = 'max generators in I_new_r')\n",
    "\n",
    "m.Q_inst_UB = Param(m.I,m.t, initialize = , doc = 'Upper bound on yearly capacity installations based on generation \\ \n",
    "                                                   technology (MW/year)')\n",
    "\n",
    "m.R_min = Param(m.T, initialize = , doc = \"systme's minimum reserve margn for year t (fraction of peak load)\")\n",
    "\n",
    "m.ED = Param(m.T, initialize = , doc = 'energy demand during year t (MW hour)')\n",
    "\n",
    "m.LT = Param(m.I, initialize = , doc = 'expected lifetime of generation cluster i (years)')\n",
    "\n",
    "m.T_remain = Param(m.T, initialize = , doc = 'Time left until end of time horizon at year t (years)')\n",
    "\n",
    "m.Ng_r = Param(m.I,m.R,m.T, initialize = , doc = '# of clusters i of region r that achieved self lifetime expectancy')\n",
    "\n",
    "mQ_v =  aram(m.I, initialize = , doc = 'capacity value of geneartion cluster i(fraction of nameplate capacity)')\n",
    "\n",
    "m.Cf = Param(m.I_RN,m.R,m.T,m.D,m.S, initialize = , doc = 'capacity factor of generation cluster') \n",
    "\n",
    "m.Pg_min = Param(m.I_TH, initialize = , doc = 'minimum opearting output of generator in I_TH_r' )\n",
    "\n",
    "m.Ru_max = Param(m.I_TH, initialize = , doc = 'maximum ramp-up rate in I_TH_r')\n",
    "\n",
    "m.Rd_max = Param(m.I_TH, initialize = , doc = 'maximum ramp-down rate in I_TH_r') \n",
    "\n",
    "m.F_start = Param(initialize = , doc = 'fuel usage at startup (MMbtu/Mw)')\n",
    "\n",
    "m.Frac_spin = Param(m.I, initialize = , doc = 'max fraction of nameplate capacity of each geneartor that can contribute to\\\n",
    "                                               spinning reserves (fraction of nameplate capacity)') \n",
    "\n",
    "m.Frac_Qstart = Param(m.I, initialize = , doc = 'max fraction of nameplate capacity of each geneartor that can contribute to\\ \n",
    "                                                 quick start reserves (fraction of nameplate capacity)') \n",
    "\n",
    "m.Op_min = Param(initialize = , doc = 'minimum total operating reserve (fraction of load demand)' ) \n",
    "\n",
    "m.Spin_min = Param(initialize = , doc = 'min spinning operating reserve (fraction of load demand)' ) \n",
    "\n",
    "m.Qstart_min = Param(initialize = , doc = 'minimum quick-start operating reserve (fraction of load demand)' ) \n",
    "\n",
    "m.alpha_RN = Param(initialize = , doc = 'fraction of renewable generation output covered by quick-start reserve\\ \n",
    "                                         (fraction of total renewable power output)' ) \n",
    "\n",
    "m.T_loss = Param(m.DR, initialize = , doc = \"transmission loss factor between r and r' != r (%/miles)\") # revise as needed\n",
    "\n",
    "m.D = Param(m.DR, initialize = , doc = \"distance between r and r' != r (miles)\") # revise as needed\n",
    "\n",
    "m.Ns = Param(m.J,m.R, initialize = , doc = '# existing storage units in each j per r at start of time horizon')\n",
    "\n",
    "m.Charge_min = Param(m.J, initialize = , doc = 'minimum operating charge for storage unit in cluster j (MW)' )\n",
    "\n",
    "m.Charge_max = Param(m.J, initialize = , doc = 'maximum operating charge for storage unit in cluster j (MW)' )\n",
    "\n",
    "m.Discharge_min = Param(m.J, initialize = , doc = 'minimum operating discharge for storage unit in cluster j (MW)' )\n",
    "\n",
    "m.Discharge_max = Param(m.J, initialize = , doc = 'maximum operating discharge for storage unit in cluster j (MW)' )\n",
    "\n",
    "m.Storage_min = Param(m.J, initialize = , doc = 'minimum storage capacity for for storage unit in cluster j (MW hour)' )\n",
    "\n",
    "m.Storage_max = Param(m.J, initialize = , doc = 'maximum storage capacity for storage unit in cluster j (MW hour)' )\n",
    "\n",
    "m.eta_charge = Param(m.J, initialize = , doc = 'charging efficiency of storage unit in j (fraction)')\n",
    "\n",
    "m.eta_discharge = Param(m.J, initialize = , doc = 'discharging efficiency of storage unit in j (fraction)')\n",
    "\n",
    "m.LT_s = Param(m.J, initialize = , doc = 'lifetime of storage unit in cluster j (years)')\n",
    "\n",
    "m.Ir = Param(initialize = , doc = 'nominal interest rate')\n",
    "\n",
    "m.If = Param(m.T, initialize = , doc = 'discount factor for year t')\n",
    "\n",
    "m.OCC = Param(m.I,m.T, initialize = , doc = 'overnight capital cost of generator cluster i in year t ($/MW)')\n",
    "\n",
    "m.ACC = Param(m.I,m.T, initialize = , doc = 'annualized capital cost of generator cluster i in year t ($/MW)')\n",
    "\n",
    "m.DIC = Param(m.I,m.T, initialize = , doc = 'discounted investment cost of generator cluster i in year t ($/MW)')\n",
    "\n",
    "m.SIC = Param(m.j,m.T, initialize = , doc = 'investment cost of storage cluster j in year t ($/MW)')\n",
    "\n",
    "m.CC_m = Param(m.I, initialize = , doc = ' capital cost multiplier of generator cluster i')\n",
    "\n",
    "m.LE = Param(m.I, initialize = , doc = 'life extension cost for generator cluster i (fraction of investment cost of \\\n",
    "                                        corresponding new generator)')\n",
    "\n",
    "m.FOC = Param(m.I,m.T, initialize = , doc = 'fixed operating cost of generator cluster i in year t ($/MW)')\n",
    "\n",
    "m.P_fuel = Param(m.I,m.T, initialize = , doc = 'price of fuel for generator cluster i in year t ($/MMBtu)')\n",
    "\n",
    "m.HR = Param(m.I, initialize = , doc = 'heat rate of generator cluster i (MMBtu/MW hour)')\n",
    "\n",
    "m.Tx_CO2 = Param(m.T, initialize = , doc = 'carbon tax in year t ($/kilogram CO2)')\n",
    "\n",
    "m.EF_CO2 = Param(m.I, initialize = , doc = 'lifecycle CO2 emission factor for generator cluster i (kilogram CO2/ MMBtu)')\n",
    "\n",
    "m.VOC = Param(m.I,m.T, initialize = , doc = 'variable O&M cost of generator cluster i ($/MW hour)')\n",
    "\n",
    "m.RN_min = Param(m.T, initialize = , doc = 'min renewable energy production requirement during year t (fraction of annual\\\n",
    "                                            energy demand)')\n",
    "\n",
    "m.PEN_rn = Param(m.T, initialize = , doc = 'penalty for not meeting renewable energy quota target during year t ($/MW hour)')\n",
    "\n",
    "m.PEN_c = Param(m.T, initialize = , doc = 'penalty for curtailment during year t ($/MW hour)')\n",
    "\n",
    "m.C_start = Param(m.I, initialize = , doc = 'fixed startup cost for generator cluster i ($/MW)')\n",
    "\n",
    "m.ngo_rn = Param(m.I,m.R,m.T,m.K, initialize = , doc = 'refer to text')\n",
    "\n",
    "m.ngo_th = Param(m.I,m.R,m.T,m.K, initialize = , doc = 'refer to text')\n",
    "\n",
    "m.ngb_rn = Param(m.I,m.R,m.T,m.K, initialize = , doc = 'refer to text')\n",
    "\n",
    "m.ngb_th = Param(m.I,m.R,m.T,m.K, initialize = , doc = 'refer to text')\n",
    "\n",
    "m.mu_orn = Param(m.I,m.R,m.T,m.K, initialize = , doc = 'refer to text')\n",
    "\n",
    "m.mu_oth = Param(m.I,m.R,m.T,m.K, initialize = , doc = 'refer to text')\n",
    "\n",
    "m.mu_brn = Param(m.I,m.R,m.T,m.K, initialize = , doc = 'refer to text')\n",
    "\n",
    "m.mu_bth = Param(m.I,m.R,m.T,m.K, initialize = , doc = 'refer to text')\n",
    "\n",
    "m.xcap = Param(m.T,m.K, initialize = , doc = 'refer to text')\n",
    "\n",
    "m.xcap_o = Param(m.T,m.K, initialize = , doc = 'refer to text')\n",
    "\n",
    "m.xcap_b = Param(m.T,m.K, initialize = , doc = 'refer to text')\n",
    "\n",
    "m.phicap = Param(m.T,m.K, initialize = , doc = 'refer to text')\n",
    "\n",
    "m.mu = Param(m.T,m.K, initialize = , doc = 'refer to text')\n",
    "\n",
    "m.mu_o = Param(m.T,m.K, initialize = , doc = 'refer to text')\n",
    "\n",
    "m.mu_b = Param(m.T,m.K, initialize = , doc = 'refer to text')\n",
    "\n",
    "m.mubar = Param(m.T,m.K, initialize = , doc = 'refer to text')\n",
    "\n",
    "m.step = Param(m.T,m.K, initialize = , doc = 'refer to text')\n",
    "\n",
    "(m.e1, m.e2, m.e3) = (Param(initialize = ), Param(initialize = ), Param(initialize = )) # tolerances of decomposition algorithm"
   ]
  },
  {
   "cell_type": "markdown",
   "id": "1449fb11",
   "metadata": {},
   "source": [
    " "
   ]
  },
  {
   "cell_type": "markdown",
   "id": "a8a8f3df",
   "metadata": {},
   "source": [
    "#### Continuous Variable Declerations"
   ]
  },
  {
   "cell_type": "code",
   "execution_count": null,
   "id": "0455e40f",
   "metadata": {},
   "outputs": [],
   "source": [
    "m.phi = Var(domain = NonNegativeReals, doc = 'net pesent cost throughout the time horizon, including amoritized investement\\ \n",
    "                                              costs, operational and environmental cost ($)')\n",
    "\n",
    "m.phi_opex = Var(m.T, domain = NonNegativeReals, doc = 'amortized operating costs in year t ($)')\n",
    "\n",
    "m.phi_capex = Var(m.T, domain = NonNegativeReals, doc = 'amortized investment costs in year t ($)')\n",
    "\n",
    "m.phi_PEN = Var(m.T, domain = NonNegativeReals, doc = 'amortized penalty costs in year t ($)')\n",
    "\n",
    "m.p = Var(m.I,m.R,m.T,m.D,m.S, domain = NonNegativeReals, doc = 'power output of generation cluster i in r during \\\n",
    "                                                                 s of d of t (MW)')\n",
    "\n",
    "m.def_rn = Var(m.T, domain = NonNegativeReals, doc = 'deficit from renewable enrgy quota target during yeart t (MW hour)')\n",
    "\n",
    "m.cu_ = Var(m.R,m.T,m.D,m.S, domain = NonNegativeReals, doc = 'curtailment slack generation in r, during s, of d, of t(MW)' ) \n",
    "\n",
    "m.p_flow = Var(m.DR,m.T,m.D,m.S, domain = NonNegativeReals, doc = \"power transfer from r to r' during s of d of t (MW)\")\n",
    "\n",
    "m.q_spin = Var(m.Im.R,m.T,m.D,m.S, domain = NonNegativeReals, doc = 'spinning reserve capacity of I in r during \\\n",
    "                                                                     s of d of t (MW)')\n",
    "\n",
    "m.q_Qstart = Var(m.I,m.R,m.T,m.D,m.S, domain = NonNegativeReals, doc = 'quick-start capacity reserve of I in r during \\\n",
    "                                                                        s of d of t (MW)')\n",
    "\n",
    "m.ngo_rn = Var(m.I_RN,m.R,m.T, domain = NonNegativeReals, doc = '# of generators that are operational in I_RN of r in t')\n",
    "\n",
    "m.ngb_rn = Var(m.I_RN,m.R,m.T, domain = NonNegativeReals, doc = '# of generators that are built in I_RN of r in t')\n",
    "\n",
    "m.ngr_rn = Var(m.I_RN,m.R,m.T, domain = NonNegativeReals, doc = '# of generators that retire in I_RN of r in t')\n",
    "\n",
    "m.nge_rn = Var(m.I_RN,m.R,m.T, domain = NonNegativeReals, doc = '# of generators that had life extended in I_RN of r in t')\n",
    "\n",
    "m.p_charge = Var(m.J,m.R,m.T,m.D,m.S, domain = NonNegativeReals, doc = 'power being charged to cluster j in r during \\\n",
    "                                                                        s of d of t (MW)')\n",
    "\n",
    "m.p_discharge = Var(m.J,m.R,m.T,m.D,m.S, domain = NonNegativeReals, doc = 'power being discharged to j in r during \\\n",
    "                                                                           s of d of t (MW)')\n",
    "\n",
    "m.p_level = Var(m.J,m.R,m.T,m.D,m.S, domain = NonNegativeReals, doc = 'state of charge of cluster j in r during \\\n",
    "                                                                       s of d of t (MW hour)')\n",
    "\n",
    "m.p_level0 = Var(m.J,m.R,m.T,m.D, domain = NonNegativeReals, doc = 'state of charge of cluster j in r during s of \\\n",
    "                                                                    d of t (MW hour)')\n",
    "\n",
    "m.nso = Var(m.J,m.R,m.T, domain = NonNegativeReals, doc = '# of storage units operational in j of r in t')\n",
    "\n",
    "m.nsb = Var(m.J,m.R,m.T, domain = NonNegatigeReals, doc = '# of storage units built in j of r in t')\n",
    "\n",
    "m.nsr = Var(m.J,m.R,m.T, domain = NonNegativeReals, doc = '# of storage units that retire in j of r in t')\n",
    "\n",
    "m.phi_t = Var(m.T, domain = NonNegativeReals, doc = 'objective function value for subproblem t assuming exact representation\\\n",
    "                                                     of the cost-to-go function ($)')\n",
    "\n",
    "m.phi_tk = Var(m.T,m.K, domain = NonNegativeReals, doc = 'objective function value for subproblem t in iteration k ($)')\n",
    "\n",
    "m.ctg = Var(m.T,m,K, domain = NonNegativeReals, doc = 'cost-to-go function ($)')\n",
    "\n",
    "m.alpha = Var(m.T, domain = NonNegativeReals, doc = 'expected future year cost, when calculating cost for year t ($)')\n",
    "\n",
    "m.phi_LP = Var(m.T,m.K, domain = NonNegativeReals, doc = 'net present cost of linear relaxation of subproblem for t in \\ \n",
    "                                                          iteration k ($)')\n",
    "\n",
    "m.phi_LR = Var(m.T,m.K, domain = NonNegativeReals, doc = 'net present cost of Lagrangean relaxation of subproblem for t in \\\n",
    "                                                          iteration k ($)')\n",
    "\n",
    "m.phi_LD = Var(m.T,m.K, domain = NonNegativeReals, doc = 'net present cost of Lagrangean dual of subproblem for t in iteration \\\n",
    "                                                          k ($)')\n",
    "\n",
    "m.phi_OP = Var(m.T,m.K, domain = NonNegativeReals, doc = 'net present cost of original MILP subproblem for t in iteration \\\n",
    "                                                          k ($)')\n",
    "\n",
    "m.ngo_rnprev = Var(m.I_RN,m.R,m.T), domain = NonNegativeReals, doc = '# of generators operational in I_RN of r in year t-1')\n",
    "\n",
    "m.ngb_rnprev = Var(m.I_RN,m.R,m.T), domain = NonNegativeReals, doc = '# of generators built in I_RN of r in year t-LT')\n",
    "\n",
    "m.ngo_thprev = Var(m.I_TH,m.R,m.T), domain = NonNegativeReals, doc = '# of generators operational in I_TH of r in year t-1')\n",
    "\n",
    "m.ngb_thprev = Var(m.I_TH,m.R,m.T), domain = NonNegativeReals, doc = '# of generators built in I_TH of r in year t-LT')\n",
    "\n",
    "m.x = Var(m.T, domain = NonNegativeReals, doc = 'state linking variables in concise notation')\n",
    "\n",
    "m.Z = Var(m.T, domain = NonNegativeReals, doc = 'duplicated state variables in concise notation')\n",
    "\n",
    "m.y= Var(m.T, domain = NonNegativeReals, doc = 'local variables in concise notation)"
   ]
  },
  {
   "cell_type": "markdown",
   "id": "dcf6c04e",
   "metadata": {},
   "source": [
    "#### Discrete Variable Declerations"
   ]
  },
  {
   "cell_type": "code",
   "execution_count": null,
   "id": "45ae2ae6",
   "metadata": {},
   "outputs": [],
   "source": [
    "m.ngo_th = Var(m.I_TH,m.R,m.T, domain = PositiveIntegers, doc = '# of generators that are operational in I_TH of r in t')\n",
    "\n",
    "m.ngb_th = Var(m.I_TH,m.R,m.T, domain = PositiveIntegers, doc = '# of generators that are built in I_TH of r in t')\n",
    "\n",
    "m.ngr_th = Var(m.I_TH,m.R,m.T, domain = PositiveIntegers, doc = '# of generators that retire in I_TH of r in t')\n",
    "\n",
    "m.nge_th = Var(m.I_TH,m.R,m.T, domain = PositiveIntegers, doc = '# of generators that had life extended in I_TH of r in t')\n",
    "\n",
    "m.u = Var(m.I,m.R,m.T,m.D,m.S, domain = PositiveIntegers, doc = ' # Thermal generators on in I_r of r during s of d of t')\n",
    "\n",
    "m.su = Var(m.I,m.R,m.T,m.D,m.S, domain = PositiveIntegers, doc = ' # Thermal generators starting up in I_r ')\n",
    "\n",
    "m.sd= Var(m.I,m.R,m.T,m.D,m.S, domain = PositiveIntegers, doc = ' # Thermal generators shutting down in I_r')"
   ]
  },
  {
   "cell_type": "markdown",
   "id": "f5cf4d3d",
   "metadata": {},
   "source": [
    " "
   ]
  },
  {
   "cell_type": "markdown",
   "id": "e792452d",
   "metadata": {},
   "source": [
    "#### Operational Constraints"
   ]
  },
  {
   "cell_type": "markdown",
   "id": "56bb1622",
   "metadata": {},
   "source": [
    "#### (1) Energy Balance"
   ]
  },
  {
   "cell_type": "code",
   "execution_count": null,
   "id": "9ba98d4c",
   "metadata": {},
   "outputs": [],
   "source": [
    "def energy_balance_cons(m,r,t,d,s):\n",
    "    sum(p[i,r,t,d,s] + p_flow[r1,r,t,d,s] * (1 - T_loss[r,r1]) - p_flow[r,r1,t,d,s] + p_discharge[j,r,t,d,s])\n",
    "    == L[r,t,d,s] + sum(p_charge[j,r,t,d,s] + cu[r,t,d,s])\n",
    "    "
   ]
  },
  {
   "cell_type": "markdown",
   "id": "e8d5e344",
   "metadata": {},
   "source": [
    "#### (2) Capacity Factor Constraint"
   ]
  },
  {
   "cell_type": "code",
   "execution_count": null,
   "id": "c5786d69",
   "metadata": {},
   "outputs": [],
   "source": [
    "def capacity_factor_cons(m,r,t,d,s):\n",
    "    return p[i,r,t,d,s] == m.Qg_np[i,r] * m.Cf[i,r,t,d,s] *ngo_rn[i,r,t] for i in m.I_RN_r\n",
    "m.capacity_factor = Constraint(m.R,m.T,m.D,m.S, rule = capacity_factor_cons)"
   ]
  },
  {
   "cell_type": "markdown",
   "id": "a3387104",
   "metadata": {},
   "source": [
    "#### (3) Unit Commitment Constraint"
   ]
  },
  {
   "cell_type": "code",
   "execution_count": null,
   "id": "5f88b591",
   "metadata": {},
   "outputs": [],
   "source": [
    "def unit_commitment_cons(m,r,t,d,s):\n",
    "    return u[i,r,t,d,s] == u[i,r,t,d,s-1] + su[i,r,t,d,s] - sd[i,r,t,d,s] for i in m.I_r\n",
    "m.unit_commitment = Constraint(m.R,m.T,m.D,m.S, rule = unit_commitment_cons)"
   ]
  },
  {
   "cell_type": "markdown",
   "id": "281f2f7d",
   "metadata": {},
   "source": [
    "#### (4), (5) Ramping Limit Constriants"
   ]
  },
  {
   "cell_type": "code",
   "execution_count": null,
   "id": "76011c2b",
   "metadata": {},
   "outputs": [],
   "source": [
    "def ramp1_limit_cons(m,r,t,d,s):\n",
    "    return (p[i,r,t,d,s] - p[i,r,t,d,s-1]) <= Ru_max[i] * Hs *Qg_np[i,r] * (u[i,r,t,d,s] - su[i,r,t,d,s])\n",
    "           + max(Pg_min[i], Ru_max[i] * Hs) * Qg_np[i,r] * su[i,r,t,d,s] for i in m.I_TH_r\n",
    "m.ramp1_limit = Constraint(m.R,m.T,m.D,m.S, rule = ramp1_limit_cons)"
   ]
  },
  {
   "cell_type": "code",
   "execution_count": null,
   "id": "956f67a0",
   "metadata": {},
   "outputs": [],
   "source": [
    "def ramp2_limit_cons(m,r,t,d,s):\n",
    "    return (p[i,r,t,d,s-1] - p[i,r,t,d,s]) <= Rd_max[i] * Hs *Qg_np[i,r] * (u[i,r,t,d,s] - su[i,r,t,d,s])\n",
    "           + max(Pg_min[i], Rd_max[i] * Hs) * Qg_np[i,r] * sd[i,r,t,d,s] for i in m.I_TH_r\n",
    "m.ramp2_limit = Constraint(m.R,m.T,m.D,m.S, rule = ramp2_limit_cons)    "
   ]
  },
  {
   "cell_type": "markdown",
   "id": "d571c213",
   "metadata": {},
   "source": [
    "#### (6), (7) Operating Limit Constraints"
   ]
  },
  {
   "cell_type": "code",
   "execution_count": null,
   "id": "d5d3d0aa",
   "metadata": {},
   "outputs": [],
   "source": [
    "def op1_limit_cons(m,r,t,d,s):\n",
    "    return (u[i,r,t,d,s] * Pg_min[i] * Qg_np[i,r]) <= p[i,r,t,d,s] for i in m.I_TH_r\n",
    "m.op1_limit = Constraint(m.R,m.T,m.D,m.S, rule = op1_limit_cons)"
   ]
  },
  {
   "cell_type": "code",
   "execution_count": null,
   "id": "cf939b44",
   "metadata": {},
   "outputs": [],
   "source": [
    "def op2_limit_cons(m,r,t,d,s):\n",
    "    return (p[i,r,t,d,s] + q_spin[i,r,t,d,s]) <= (u[i,r,t,d,s] * Qg_np[i,r]) for i in m.I_TH_r\n",
    "m.op2_limi = Constraint(m.R,m.T,m.D,m.S, rule = op2_limit_cons)"
   ]
  },
  {
   "cell_type": "markdown",
   "id": "65e520b4",
   "metadata": {},
   "source": [
    "#### (8) Total Operating Reserve Constraint"
   ]
  },
  {
   "cell_type": "code",
   "execution_count": null,
   "id": "0bc0ce69",
   "metadata": {},
   "outputs": [],
   "source": [
    "def tot_op_cons(m,r,t,d,s):\n",
    "    return sum((q_spin[i,r,t,d,s] + q_Qstart[i,r,t,d,s]) >= Op_min * L[r,t,d,s]) for i in m.I_TH_r\n",
    "m.tot_op = Constraint(m.R,m.T,m.D,m.S, rule = tot_op_cons)"
   ]
  },
  {
   "cell_type": "markdown",
   "id": "624f7543",
   "metadata": {},
   "source": [
    "#### (9) Total Spinning Reserve Constraint"
   ]
  },
  {
   "cell_type": "markdown",
   "id": "0e822ba0",
   "metadata": {},
   "source": [
    "#### (10) Maximum Spinning Reserve Constraint"
   ]
  },
  {
   "cell_type": "markdown",
   "id": "f172b9b1",
   "metadata": {},
   "source": [
    "#### (11) Maximum Quick-Start Reserve Constraint"
   ]
  },
  {
   "cell_type": "markdown",
   "id": "1f9b544e",
   "metadata": {},
   "source": [
    "#### (12) Planning Reserve Requirement"
   ]
  },
  {
   "cell_type": "markdown",
   "id": "2dc32bdd",
   "metadata": {},
   "source": [
    "#### (13) Minimum Annual Renewable Generation Requirement"
   ]
  },
  {
   "cell_type": "markdown",
   "id": "68295a09",
   "metadata": {},
   "source": [
    "#### (14), (15) Maximum Yearly Installation Constraint"
   ]
  },
  {
   "cell_type": "markdown",
   "id": "aee8357f",
   "metadata": {},
   "source": [
    "#### (16 - 24)  Generator Balance Constraints "
   ]
  },
  {
   "cell_type": "markdown",
   "id": "1c6d9eac",
   "metadata": {},
   "source": [
    "#### (25 - 34) Storage Constraints"
   ]
  },
  {
   "cell_type": "markdown",
   "id": "f1bfe3a5",
   "metadata": {},
   "source": [
    " "
   ]
  },
  {
   "cell_type": "markdown",
   "id": "32926671",
   "metadata": {},
   "source": [
    "#### (35 - 38) Objective Function"
   ]
  },
  {
   "cell_type": "markdown",
   "id": "91e576e3",
   "metadata": {},
   "source": []
  },
  {
   "cell_type": "markdown",
   "id": "52989c29",
   "metadata": {},
   "source": []
  },
  {
   "cell_type": "markdown",
   "id": "8b5bb6d3",
   "metadata": {},
   "source": []
  },
  {
   "cell_type": "markdown",
   "id": "245ad80b",
   "metadata": {},
   "source": []
  },
  {
   "cell_type": "markdown",
   "id": "4b09b35a",
   "metadata": {},
   "source": []
  },
  {
   "cell_type": "markdown",
   "id": "261a33cb",
   "metadata": {},
   "source": []
  },
  {
   "cell_type": "markdown",
   "id": "9592b90e",
   "metadata": {},
   "source": []
  },
  {
   "cell_type": "markdown",
   "id": "d4eca8bd",
   "metadata": {},
   "source": []
  },
  {
   "cell_type": "markdown",
   "id": "172484fb",
   "metadata": {},
   "source": []
  },
  {
   "cell_type": "markdown",
   "id": "21be6a46",
   "metadata": {},
   "source": []
  },
  {
   "cell_type": "markdown",
   "id": "d6a3ff45",
   "metadata": {},
   "source": []
  },
  {
   "cell_type": "markdown",
   "id": "d8146b23",
   "metadata": {},
   "source": []
  }
 ],
 "metadata": {
  "kernelspec": {
   "display_name": "Python 3",
   "language": "python",
   "name": "python3"
  },
  "language_info": {
   "codemirror_mode": {
    "name": "ipython",
    "version": 3
   },
   "file_extension": ".py",
   "mimetype": "text/x-python",
   "name": "python",
   "nbconvert_exporter": "python",
   "pygments_lexer": "ipython3",
   "version": "3.7.4"
  }
 },
 "nbformat": 4,
 "nbformat_minor": 5
}
