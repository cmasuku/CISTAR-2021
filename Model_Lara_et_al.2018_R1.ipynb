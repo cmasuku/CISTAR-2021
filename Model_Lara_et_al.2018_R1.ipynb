{
 "cells": [
  {
   "cell_type": "markdown",
   "id": "18fd850d",
   "metadata": {},
   "source": [
    "## Model Initialization"
   ]
  },
  {
   "cell_type": "code",
   "execution_count": 1,
   "id": "cf7c27f9",
   "metadata": {},
   "outputs": [],
   "source": [
    "from pyomo.environ import *\n",
    "\n",
    "m = ConcreteModel() # concrete model object"
   ]
  },
  {
   "cell_type": "markdown",
   "id": "989b2066",
   "metadata": {},
   "source": [
    " "
   ]
  },
  {
   "cell_type": "markdown",
   "id": "860b3ee2",
   "metadata": {},
   "source": [
    "#### Set Declerations"
   ]
  },
  {
   "cell_type": "code",
   "execution_count": 2,
   "id": "8dae96f1",
   "metadata": {},
   "outputs": [],
   "source": [
    "m.R = Set( doc = 'set of regions') \n",
    "\n",
    "def DR_init(m):\n",
    "    if r != r1:\n",
    "        return ((r,r1) for r in model.R for r1 in model.R)\n",
    "m.DR = Set(m.R, initialize = DR_init, doc = \"difference between r and r'\") #revise as needed\n",
    "\n",
    "m.I = Set( doc = 'set of generator clusters')\n",
    "\n",
    "m.I_r = Set(m.R, within = m.I, doc = 'set of generator clusters in region r')\n",
    "\n",
    "m.I_old = Set(m.R, within = m.I_r, doc = 'set of existing generator clusters in region r at the beginning of the time horizon')\n",
    "    \n",
    "m.I_new = Set(m.R, within = m.I_r, doc = 'set of potential generator clustors in region r')\n",
    "\n",
    "m.I_TH = Set(m.R, within = m.I_r, doc = 'set of thermal generator clustors in region r')\n",
    "\n",
    "m.I_RN = Set(m.R, within = m.I_r, doc = 'set of renewable generator clustors in region r')\n",
    "\n",
    "m.I_Told = Set(m.R, within = m.I_TH,  doc = 'set of existing thermal generator clusters in region r')\n",
    "\n",
    "m.I_Tnew = Set(m.R, within = m.I_TH, doc = 'set of potential thermal generator clustors in region r')\n",
    "\n",
    "m.I_Rold = Set(m.R, within = m.I_RN, doc = 'set of existing renewable generator clusters in region r') \n",
    "\n",
    "m.I_Rnew = Set(m.R, within = m.I_RN, doc = 'set of potential renewable generator clusters in region r')\n",
    "\n",
    "m.J = Set( doc = 'set of storage unit clusters')\n",
    "\n",
    "m.T = Set( doc = 'set of time periods within the planning horizon')\n",
    "\n",
    "m.D = Set( doc = 'set of representative days in each year t')\n",
    "\n",
    "m.S = Set( doc = 'set of sub-periods of time per representative day d in year t')\n",
    "\n",
    "m.K = Set( doc = 'set of iterations in the Nested Decomposition algorithm')"
   ]
  },
  {
   "cell_type": "markdown",
   "id": "1dd878df",
   "metadata": {},
   "source": [
    " "
   ]
  },
  {
   "cell_type": "markdown",
   "id": "4f68a7cb",
   "metadata": {},
   "source": [
    "#### Deterministic Parameters Declerations"
   ]
  },
  {
   "cell_type": "code",
   "execution_count": 3,
   "id": "c39c263d",
   "metadata": {},
   "outputs": [
    {
     "ename": "TypeError",
     "evalue": "Cannot apply a Set operator to an indexed Set component (I_old)",
     "output_type": "error",
     "traceback": [
      "\u001b[1;31m---------------------------------------------------------------------------\u001b[0m",
      "\u001b[1;31mTypeError\u001b[0m                                 Traceback (most recent call last)",
      "\u001b[1;32m<ipython-input-3-ec31d2b3b35d>\u001b[0m in \u001b[0;36m<module>\u001b[1;34m\u001b[0m\n\u001b[0;32m      9\u001b[0m \u001b[0mm\u001b[0m\u001b[1;33m.\u001b[0m\u001b[0mQg_np_\u001b[0m \u001b[1;33m=\u001b[0m \u001b[0mParam\u001b[0m\u001b[1;33m(\u001b[0m\u001b[0mm\u001b[0m\u001b[1;33m.\u001b[0m\u001b[0mI\u001b[0m\u001b[1;33m,\u001b[0m\u001b[0mm\u001b[0m\u001b[1;33m.\u001b[0m\u001b[0mR\u001b[0m\u001b[1;33m,\u001b[0m \u001b[0minitialize\u001b[0m \u001b[1;33m=\u001b[0m \u001b[1;33m{\u001b[0m\u001b[1;33m}\u001b[0m\u001b[1;33m,\u001b[0m \u001b[0mdoc\u001b[0m \u001b[1;33m=\u001b[0m \u001b[1;34m'nominal capacity of a generator in cluster i in region r (MW)'\u001b[0m\u001b[1;33m)\u001b[0m\u001b[1;33m\u001b[0m\u001b[1;33m\u001b[0m\u001b[0m\n\u001b[0;32m     10\u001b[0m \u001b[1;33m\u001b[0m\u001b[0m\n\u001b[1;32m---> 11\u001b[1;33m \u001b[0mm\u001b[0m\u001b[1;33m.\u001b[0m\u001b[0mNg_old\u001b[0m \u001b[1;33m=\u001b[0m \u001b[0mParam\u001b[0m\u001b[1;33m(\u001b[0m\u001b[0mm\u001b[0m\u001b[1;33m.\u001b[0m\u001b[0mI_old\u001b[0m\u001b[1;33m,\u001b[0m\u001b[0mm\u001b[0m\u001b[1;33m.\u001b[0m\u001b[0mR\u001b[0m\u001b[1;33m,\u001b[0m \u001b[0minitialize\u001b[0m \u001b[1;33m=\u001b[0m \u001b[1;33m{\u001b[0m\u001b[1;33m}\u001b[0m\u001b[1;33m,\u001b[0m \u001b[0mdoc\u001b[0m \u001b[1;33m=\u001b[0m \u001b[1;34m'# of existing generators at start of time horizon'\u001b[0m\u001b[1;33m)\u001b[0m\u001b[1;33m\u001b[0m\u001b[1;33m\u001b[0m\u001b[0m\n\u001b[0m\u001b[0;32m     12\u001b[0m \u001b[1;33m\u001b[0m\u001b[0m\n\u001b[0;32m     13\u001b[0m \u001b[0mm\u001b[0m\u001b[1;33m.\u001b[0m\u001b[0mNg_max\u001b[0m \u001b[1;33m=\u001b[0m \u001b[0mParam\u001b[0m\u001b[1;33m(\u001b[0m\u001b[0mm\u001b[0m\u001b[1;33m.\u001b[0m\u001b[0mI_new\u001b[0m\u001b[1;33m,\u001b[0m \u001b[0minitialize\u001b[0m \u001b[1;33m=\u001b[0m \u001b[1;33m{\u001b[0m\u001b[1;33m}\u001b[0m\u001b[1;33m,\u001b[0m \u001b[0mdoc\u001b[0m \u001b[1;33m=\u001b[0m \u001b[1;34m'max generators in I_new_r'\u001b[0m\u001b[1;33m)\u001b[0m\u001b[1;33m\u001b[0m\u001b[1;33m\u001b[0m\u001b[0m\n",
      "\u001b[1;32mC:\\Users\\ahmeda5\\Miniconda3\\lib\\site-packages\\pyomo\\core\\base\\param.py\u001b[0m in \u001b[0;36m__init__\u001b[1;34m(self, *args, **kwd)\u001b[0m\n\u001b[0;32m    282\u001b[0m         \u001b[1;31m#\u001b[0m\u001b[1;33m\u001b[0m\u001b[1;33m\u001b[0m\u001b[1;33m\u001b[0m\u001b[0m\n\u001b[0;32m    283\u001b[0m         \u001b[0mkwd\u001b[0m\u001b[1;33m.\u001b[0m\u001b[0msetdefault\u001b[0m\u001b[1;33m(\u001b[0m\u001b[1;34m'ctype'\u001b[0m\u001b[1;33m,\u001b[0m \u001b[0mParam\u001b[0m\u001b[1;33m)\u001b[0m\u001b[1;33m\u001b[0m\u001b[1;33m\u001b[0m\u001b[0m\n\u001b[1;32m--> 284\u001b[1;33m         \u001b[0mIndexedComponent\u001b[0m\u001b[1;33m.\u001b[0m\u001b[0m__init__\u001b[0m\u001b[1;33m(\u001b[0m\u001b[0mself\u001b[0m\u001b[1;33m,\u001b[0m \u001b[1;33m*\u001b[0m\u001b[0margs\u001b[0m\u001b[1;33m,\u001b[0m \u001b[1;33m**\u001b[0m\u001b[0mkwd\u001b[0m\u001b[1;33m)\u001b[0m\u001b[1;33m\u001b[0m\u001b[1;33m\u001b[0m\u001b[0m\n\u001b[0m\u001b[0;32m    285\u001b[0m \u001b[1;33m\u001b[0m\u001b[0m\n\u001b[0;32m    286\u001b[0m     \u001b[1;32mdef\u001b[0m \u001b[0m__len__\u001b[0m\u001b[1;33m(\u001b[0m\u001b[0mself\u001b[0m\u001b[1;33m)\u001b[0m\u001b[1;33m:\u001b[0m\u001b[1;33m\u001b[0m\u001b[1;33m\u001b[0m\u001b[0m\n",
      "\u001b[1;32mC:\\Users\\ahmeda5\\Miniconda3\\lib\\site-packages\\pyomo\\core\\base\\indexed_component.py\u001b[0m in \u001b[0;36m__init__\u001b[1;34m(self, *args, **kwds)\u001b[0m\n\u001b[0;32m    213\u001b[0m             \u001b[1;31m# \"transferred\" to the model).\u001b[0m\u001b[1;33m\u001b[0m\u001b[1;33m\u001b[0m\u001b[1;33m\u001b[0m\u001b[0m\n\u001b[0;32m    214\u001b[0m             \u001b[1;31m#\u001b[0m\u001b[1;33m\u001b[0m\u001b[1;33m\u001b[0m\u001b[1;33m\u001b[0m\u001b[0m\n\u001b[1;32m--> 215\u001b[1;33m             \u001b[0mtmp\u001b[0m \u001b[1;33m=\u001b[0m \u001b[1;33m[\u001b[0m\u001b[0mprocess_setarg\u001b[0m\u001b[1;33m(\u001b[0m\u001b[0mx\u001b[0m\u001b[1;33m)\u001b[0m \u001b[1;32mfor\u001b[0m \u001b[0mx\u001b[0m \u001b[1;32min\u001b[0m \u001b[0margs\u001b[0m\u001b[1;33m]\u001b[0m\u001b[1;33m\u001b[0m\u001b[1;33m\u001b[0m\u001b[0m\n\u001b[0m\u001b[0;32m    216\u001b[0m             \u001b[0mself\u001b[0m\u001b[1;33m.\u001b[0m\u001b[0m_implicit_subsets\u001b[0m \u001b[1;33m=\u001b[0m \u001b[0mtmp\u001b[0m\u001b[1;33m\u001b[0m\u001b[1;33m\u001b[0m\u001b[0m\n\u001b[0;32m    217\u001b[0m             \u001b[0mself\u001b[0m\u001b[1;33m.\u001b[0m\u001b[0m_index\u001b[0m \u001b[1;33m=\u001b[0m \u001b[0mtmp\u001b[0m\u001b[1;33m[\u001b[0m\u001b[1;36m0\u001b[0m\u001b[1;33m]\u001b[0m\u001b[1;33m.\u001b[0m\u001b[0mcross\u001b[0m\u001b[1;33m(\u001b[0m\u001b[1;33m*\u001b[0m\u001b[0mtmp\u001b[0m\u001b[1;33m[\u001b[0m\u001b[1;36m1\u001b[0m\u001b[1;33m:\u001b[0m\u001b[1;33m]\u001b[0m\u001b[1;33m)\u001b[0m\u001b[1;33m\u001b[0m\u001b[1;33m\u001b[0m\u001b[0m\n",
      "\u001b[1;32mC:\\Users\\ahmeda5\\Miniconda3\\lib\\site-packages\\pyomo\\core\\base\\indexed_component.py\u001b[0m in \u001b[0;36m<listcomp>\u001b[1;34m(.0)\u001b[0m\n\u001b[0;32m    213\u001b[0m             \u001b[1;31m# \"transferred\" to the model).\u001b[0m\u001b[1;33m\u001b[0m\u001b[1;33m\u001b[0m\u001b[1;33m\u001b[0m\u001b[0m\n\u001b[0;32m    214\u001b[0m             \u001b[1;31m#\u001b[0m\u001b[1;33m\u001b[0m\u001b[1;33m\u001b[0m\u001b[1;33m\u001b[0m\u001b[0m\n\u001b[1;32m--> 215\u001b[1;33m             \u001b[0mtmp\u001b[0m \u001b[1;33m=\u001b[0m \u001b[1;33m[\u001b[0m\u001b[0mprocess_setarg\u001b[0m\u001b[1;33m(\u001b[0m\u001b[0mx\u001b[0m\u001b[1;33m)\u001b[0m \u001b[1;32mfor\u001b[0m \u001b[0mx\u001b[0m \u001b[1;32min\u001b[0m \u001b[0margs\u001b[0m\u001b[1;33m]\u001b[0m\u001b[1;33m\u001b[0m\u001b[1;33m\u001b[0m\u001b[0m\n\u001b[0m\u001b[0;32m    216\u001b[0m             \u001b[0mself\u001b[0m\u001b[1;33m.\u001b[0m\u001b[0m_implicit_subsets\u001b[0m \u001b[1;33m=\u001b[0m \u001b[0mtmp\u001b[0m\u001b[1;33m\u001b[0m\u001b[1;33m\u001b[0m\u001b[0m\n\u001b[0;32m    217\u001b[0m             \u001b[0mself\u001b[0m\u001b[1;33m.\u001b[0m\u001b[0m_index\u001b[0m \u001b[1;33m=\u001b[0m \u001b[0mtmp\u001b[0m\u001b[1;33m[\u001b[0m\u001b[1;36m0\u001b[0m\u001b[1;33m]\u001b[0m\u001b[1;33m.\u001b[0m\u001b[0mcross\u001b[0m\u001b[1;33m(\u001b[0m\u001b[1;33m*\u001b[0m\u001b[0mtmp\u001b[0m\u001b[1;33m[\u001b[0m\u001b[1;36m1\u001b[0m\u001b[1;33m:\u001b[0m\u001b[1;33m]\u001b[0m\u001b[1;33m)\u001b[0m\u001b[1;33m\u001b[0m\u001b[1;33m\u001b[0m\u001b[0m\n",
      "\u001b[1;32mC:\\Users\\ahmeda5\\Miniconda3\\lib\\site-packages\\pyomo\\core\\base\\set.py\u001b[0m in \u001b[0;36mprocess_setarg\u001b[1;34m(arg)\u001b[0m\n\u001b[0;32m    109\u001b[0m         raise TypeError(\"Cannot apply a Set operator to an \"\n\u001b[0;32m    110\u001b[0m                         \u001b[1;34m\"indexed %s component (%s)\"\u001b[0m\u001b[1;33m\u001b[0m\u001b[1;33m\u001b[0m\u001b[0m\n\u001b[1;32m--> 111\u001b[1;33m                         % (arg.ctype.__name__, arg.name,))\n\u001b[0m\u001b[0;32m    112\u001b[0m     \u001b[1;32melif\u001b[0m \u001b[0misinstance\u001b[0m\u001b[1;33m(\u001b[0m\u001b[0marg\u001b[0m\u001b[1;33m,\u001b[0m \u001b[0mComponent\u001b[0m\u001b[1;33m)\u001b[0m\u001b[1;33m:\u001b[0m\u001b[1;33m\u001b[0m\u001b[1;33m\u001b[0m\u001b[0m\n\u001b[0;32m    113\u001b[0m         raise TypeError(\"Cannot apply a Set operator to a non-Set \"\n",
      "\u001b[1;31mTypeError\u001b[0m: Cannot apply a Set operator to an indexed Set component (I_old)"
     ]
    }
   ],
   "source": [
    "m.L = Param(m.R,m.T,m.D,m.S, initialize = {}, doc = 'load demand in r, in s, of d, of t') \n",
    "\n",
    "m.L_max = Param(m.T, initialize = {}, doc = 'peak load in year t (MW)') \n",
    "\n",
    "m.W = Param(initialize = {}, doc = 'weight of representative day(d)')\n",
    "\n",
    "m.Hs = Param(initialize = {}, doc = 'duration of sub-period s (h)' ) \n",
    "\n",
    "m.Qg_np_ = Param(m.I,m.R, initialize = {}, doc = 'nominal capacity of a generator in cluster i in region r (MW)') \n",
    "\n",
    "m.Ng_old = Param(m.I_old,m.R, initialize = {}, doc = '# of existing generators at start of time horizon')\n",
    "\n",
    "m.Ng_max = Param(m.I_new, initialize = {}, doc = 'max generators in I_new_r')\n",
    "\n",
    "m.Q_inst_UB = Param(m.I,m.t, initialize = {}, doc = 'Upper bound on yearly capacity installations based on generation \\\n",
    "                                                   technology (MW/year)')\n",
    "\n",
    "m.R_min = Param(m.T, initialize = {}, doc = \"systme's minimum reserve margn for year t (fraction of peak load)\")\n",
    "\n",
    "m.ED = Param(m.T, initialize = {}, doc = 'energy demand during year t (MW hour)')\n",
    "\n",
    "m.LT = Param(m.I, initialize = {}, doc = 'expected lifetime of generation cluster i (years)')\n",
    "\n",
    "m.T_remain = Param(m.T, initialize = {}, doc = 'Time left until end of time horizon at year t (years)')\n",
    "\n",
    "m.Ng_r = Param(m.I,m.R,m.T, initialize = {}, doc = '# of clusters i of region r that achieved self lifetime expectancy')\n",
    "\n",
    "m.Q_v =  aram(m.I, initialize = {}, doc = 'capacity value of geneartion cluster i(fraction of nameplate capacity)')\n",
    "\n",
    "m.Cf = Param(m.I_RN,m.R,m.T,m.D,m.S, initialize = {}, doc = 'capacity factor of generation cluster') \n",
    "\n",
    "m.Pg_min = Param(m.I_TH, initialize = {}, doc = 'minimum opearting output of generator in I_TH_r' )\n",
    "\n",
    "m.Ru_max = Param(m.I_TH, initialize = {}, doc = 'maximum ramp-up rate in I_TH_r')\n",
    "\n",
    "m.Rd_max = Param(m.I_TH, initialize = {}, doc = 'maximum ramp-down rate in I_TH_r') \n",
    "\n",
    "m.F_start = Param(initialize = {}, doc = 'fuel usage at startup (MMbtu/Mw)')\n",
    "\n",
    "m.Frac_spin = Param(m.I, initialize = {}, doc = 'max fraction of nameplate capacity of each geneartor that can contribute to \\\n",
    "                                               spinning reserves (fraction of nameplate capacity)') \n",
    "\n",
    "m.Frac_Qstart = Param(m.I, initialize = {}, doc = 'max fraction of nameplate capacity of each geneartor that can contribute to \\\n",
    "                                                 quick start reserves (fraction of nameplate capacity)') \n",
    "\n",
    "m.Op_min = Param(initialize = {}, doc = 'minimum total operating reserve (fraction of load demand)' ) \n",
    "\n",
    "m.Spin_min = Param(initialize = {}, doc = 'min spinning operating reserve (fraction of load demand)' ) \n",
    "\n",
    "m.Qstart_min = Param(initialize = {}, doc = 'minimum quick-start operating reserve (fraction of load demand)' ) \n",
    "\n",
    "m.alpha_RN = Param(initialize = {}, doc = 'fraction of renewable generation output covered by quick-start reserve \\\n",
    "                                         (fraction of total renewable power output)' ) \n",
    "\n",
    "m.T_loss = Param(m.DR, initialize = {}, doc = \"transmission loss factor between r and r' != r (%/miles)\") # revise as needed\n",
    "\n",
    "m.D = Param(m.DR, initialize = {}, doc = \"distance between r and r' != r (miles)\") # revise as needed\n",
    "\n",
    "m.Ns = Param(m.J,m.R, initialize = {}, doc = '# existing storage units in each j per r at start of time horizon')\n",
    "\n",
    "m.Charge_min = Param(m.J, initialize = {}, doc = 'minimum operating charge for storage unit in cluster j (MW)' )\n",
    "\n",
    "m.Charge_max = Param(m.J, initialize = {}, doc = 'maximum operating charge for storage unit in cluster j (MW)' )\n",
    "\n",
    "m.Discharge_min = Param(m.J, initialize = {}, doc = 'minimum operating discharge for storage unit in cluster j (MW)' )\n",
    "\n",
    "m.Discharge_max = Param(m.J, initialize = {}, doc = 'maximum operating discharge for storage unit in cluster j (MW)' )\n",
    "\n",
    "m.Storage_min = Param(m.J, initialize = {}, doc = 'minimum storage capacity for for storage unit in cluster j (MW hour)' )\n",
    "\n",
    "m.Storage_max = Param(m.J, initialize = {}, doc = 'maximum storage capacity for storage unit in cluster j (MW hour)' )\n",
    "\n",
    "m.eta_charge = Param(m.J, initialize = {}, doc = 'charging efficiency of storage unit in j (fraction)')\n",
    "\n",
    "m.eta_discharge = Param(m.J, initialize = {}, doc = 'discharging efficiency of storage unit in j (fraction)')\n",
    "\n",
    "m.LT_s = Param(m.J, initialize = {}, doc = 'lifetime of storage unit in cluster j (years)')\n",
    "\n",
    "m.Ir = Param(initialize = {}, doc = 'nominal interest rate')\n",
    "\n",
    "m.If = Param(m.T, initialize = {}, doc = 'discount factor for year t')\n",
    "\n",
    "m.OCC = Param(m.I,m.T, initialize = {}, doc = 'overnight capital cost of generator cluster i in year t ($/MW)')\n",
    "\n",
    "m.ACC = Param(m.I,m.T, initialize = {}, doc = 'annualized capital cost of generator cluster i in year t ($/MW)')\n",
    "\n",
    "m.DIC = Param(m.I,m.T, initialize = {}, doc = 'discounted investment cost of generator cluster i in year t ($/MW)')\n",
    "\n",
    "m.SIC = Param(m.j,m.T, initialize = {}, doc = 'investment cost of storage cluster j in year t ($/MW)')\n",
    "\n",
    "m.CC_m = Param(m.I, initialize = {}, doc = ' capital cost multiplier of generator cluster i')\n",
    "\n",
    "m.LE = Param(m.I, initialize = {}, doc = 'life extension cost for generator cluster i (fraction of investment cost of \\\n",
    "                                        corresponding new generator)')\n",
    "\n",
    "m.FOC = Param(m.I,m.T, initialize = {}, doc = 'fixed operating cost of generator cluster i in year t ($/MW)')\n",
    "\n",
    "m.P_fuel = Param(m.I,m.T, initialize = {}, doc = 'price of fuel for generator cluster i in year t ($/MMBtu)')\n",
    "\n",
    "m.HR = Param(m.I, initialize = {}, doc = 'heat rate of generator cluster i (MMBtu/MW hour)')\n",
    "\n",
    "m.Tx_CO2 = Param(m.T, initialize = {}, doc = 'carbon tax in year t ($/kilogram CO2)')\n",
    "\n",
    "m.EF_CO2 = Param(m.I, initialize = {}, doc = 'lifecycle CO2 emission factor for generator cluster i (kilogram CO2/ MMBtu)')\n",
    "\n",
    "m.VOC = Param(m.I,m.T, initialize = {}, doc = 'variable O&M cost of generator cluster i ($/MW hour)')\n",
    "\n",
    "m.RN_min = Param(m.T, initialize = {}, doc = 'min renewable energy production requirement during year t (fraction of annual \\\n",
    "                                            energy demand)')\n",
    "\n",
    "m.PEN_rn = Param(m.T, initialize = {}, doc = 'penalty for not meeting renewable energy quota target during year t ($/MW hour)')\n",
    "\n",
    "m.PEN_c = Param(m.T, initialize = {}, doc = 'penalty for curtailment during year t ($/MW hour)')\n",
    "\n",
    "m.C_start = Param(m.I, initialize = {}, doc = 'fixed startup cost for generator cluster i ($/MW)')\n",
    "\n",
    "m.ngo_rn = Param(m.I,m.R,m.T,m.K, initialize = {}, doc = 'refer to text')\n",
    "\n",
    "m.ngo_th = Param(m.I,m.R,m.T,m.K, initialize = {}, doc = 'refer to text')\n",
    "\n",
    "m.ngb_rn = Param(m.I,m.R,m.T,m.K, initialize = {}, doc = 'refer to text')\n",
    "\n",
    "m.ngb_th = Param(m.I,m.R,m.T,m.K, initialize = {}, doc = 'refer to text')\n",
    "\n",
    "m.mu_orn = Param(m.I,m.R,m.T,m.K, initialize = {}, doc = 'refer to text')\n",
    "\n",
    "m.mu_oth = Param(m.I,m.R,m.T,m.K, initialize = {}, doc = 'refer to text')\n",
    "\n",
    "m.mu_brn = Param(m.I,m.R,m.T,m.K, initialize = {}, doc = 'refer to text')\n",
    "\n",
    "m.mu_bth = Param(m.I,m.R,m.T,m.K, initialize = {}, doc = 'refer to text')\n",
    "\n",
    "m.xcap = Param(m.T,m.K, initialize = {}, doc = 'refer to text')\n",
    "\n",
    "m.xcap_o = Param(m.T,m.K, initialize = {}, doc = 'refer to text')\n",
    "\n",
    "m.xcap_b = Param(m.T,m.K, initialize = {}, doc = 'refer to text')\n",
    "\n",
    "m.phicap = Param(m.T,m.K, initialize = {}, doc = 'refer to text')\n",
    "\n",
    "m.mu = Param(m.T,m.K, initialize = {}, doc = 'refer to text')\n",
    "\n",
    "m.mu_o = Param(m.T,m.K, initialize = {}, doc = 'refer to text')\n",
    "\n",
    "m.mu_b = Param(m.T,m.K, initialize = {}, doc = 'refer to text')\n",
    "\n",
    "m.mubar = Param(m.T,m.K, initialize = {}, doc = 'refer to text')\n",
    "\n",
    "m.step = Param(m.T,m.K, initialize = {}, doc = 'refer to text')\n",
    "\n",
    "(m.e1, m.e2, m.e3) = (Param(initialize = {}), Param(initialize = {} ), Param(initialize = {})) \n",
    "                    # tolerances of decomposition algorithm"
   ]
  },
  {
   "cell_type": "markdown",
   "id": "f97991d6",
   "metadata": {},
   "source": [
    " "
   ]
  },
  {
   "cell_type": "markdown",
   "id": "a8a8f3df",
   "metadata": {},
   "source": [
    "#### Continuous Variable Declerations"
   ]
  },
  {
   "cell_type": "code",
   "execution_count": 4,
   "id": "0455e40f",
   "metadata": {},
   "outputs": [
    {
     "ename": "TypeError",
     "evalue": "Cannot apply a Set operator to an indexed Set component (DR)",
     "output_type": "error",
     "traceback": [
      "\u001b[1;31m---------------------------------------------------------------------------\u001b[0m",
      "\u001b[1;31mTypeError\u001b[0m                                 Traceback (most recent call last)",
      "\u001b[1;32m<ipython-input-4-46eb0424b21b>\u001b[0m in \u001b[0;36m<module>\u001b[1;34m\u001b[0m\n\u001b[0;32m     15\u001b[0m \u001b[0mm\u001b[0m\u001b[1;33m.\u001b[0m\u001b[0mcu_\u001b[0m \u001b[1;33m=\u001b[0m \u001b[0mVar\u001b[0m\u001b[1;33m(\u001b[0m\u001b[0mm\u001b[0m\u001b[1;33m.\u001b[0m\u001b[0mR\u001b[0m\u001b[1;33m,\u001b[0m\u001b[0mm\u001b[0m\u001b[1;33m.\u001b[0m\u001b[0mT\u001b[0m\u001b[1;33m,\u001b[0m\u001b[0mm\u001b[0m\u001b[1;33m.\u001b[0m\u001b[0mD\u001b[0m\u001b[1;33m,\u001b[0m\u001b[0mm\u001b[0m\u001b[1;33m.\u001b[0m\u001b[0mS\u001b[0m\u001b[1;33m,\u001b[0m \u001b[0mdomain\u001b[0m \u001b[1;33m=\u001b[0m \u001b[0mNonNegativeReals\u001b[0m\u001b[1;33m,\u001b[0m \u001b[0mdoc\u001b[0m \u001b[1;33m=\u001b[0m \u001b[1;34m'curtailment slack generation in r, during s, of d, of t(MW)'\u001b[0m \u001b[1;33m)\u001b[0m\u001b[1;33m\u001b[0m\u001b[1;33m\u001b[0m\u001b[0m\n\u001b[0;32m     16\u001b[0m \u001b[1;33m\u001b[0m\u001b[0m\n\u001b[1;32m---> 17\u001b[1;33m \u001b[0mm\u001b[0m\u001b[1;33m.\u001b[0m\u001b[0mp_flow\u001b[0m \u001b[1;33m=\u001b[0m \u001b[0mVar\u001b[0m\u001b[1;33m(\u001b[0m\u001b[0mm\u001b[0m\u001b[1;33m.\u001b[0m\u001b[0mDR\u001b[0m\u001b[1;33m,\u001b[0m\u001b[0mm\u001b[0m\u001b[1;33m.\u001b[0m\u001b[0mT\u001b[0m\u001b[1;33m,\u001b[0m\u001b[0mm\u001b[0m\u001b[1;33m.\u001b[0m\u001b[0mD\u001b[0m\u001b[1;33m,\u001b[0m\u001b[0mm\u001b[0m\u001b[1;33m.\u001b[0m\u001b[0mS\u001b[0m\u001b[1;33m,\u001b[0m \u001b[0mdomain\u001b[0m \u001b[1;33m=\u001b[0m \u001b[0mNonNegativeReals\u001b[0m\u001b[1;33m,\u001b[0m \u001b[0mdoc\u001b[0m \u001b[1;33m=\u001b[0m \u001b[1;34m\"power transfer from r to r' during s of d of t (MW)\"\u001b[0m\u001b[1;33m)\u001b[0m\u001b[1;33m\u001b[0m\u001b[1;33m\u001b[0m\u001b[0m\n\u001b[0m\u001b[0;32m     18\u001b[0m \u001b[1;33m\u001b[0m\u001b[0m\n\u001b[0;32m     19\u001b[0m m.q_spin = Var(m.Im.R,m.T,m.D,m.S, domain = NonNegativeReals, doc = 'spinning reserve capacity of I in r during \\\n",
      "\u001b[1;32mC:\\Users\\ahmeda5\\Miniconda3\\lib\\site-packages\\pyomo\\core\\base\\var.py\u001b[0m in \u001b[0;36m__init__\u001b[1;34m(self, *args, **kwd)\u001b[0m\n\u001b[0;32m    573\u001b[0m         \u001b[1;31m#\u001b[0m\u001b[1;33m\u001b[0m\u001b[1;33m\u001b[0m\u001b[1;33m\u001b[0m\u001b[0m\n\u001b[0;32m    574\u001b[0m         \u001b[0mkwd\u001b[0m\u001b[1;33m.\u001b[0m\u001b[0msetdefault\u001b[0m\u001b[1;33m(\u001b[0m\u001b[1;34m'ctype'\u001b[0m\u001b[1;33m,\u001b[0m \u001b[0mVar\u001b[0m\u001b[1;33m)\u001b[0m\u001b[1;33m\u001b[0m\u001b[1;33m\u001b[0m\u001b[0m\n\u001b[1;32m--> 575\u001b[1;33m         \u001b[0mIndexedComponent\u001b[0m\u001b[1;33m.\u001b[0m\u001b[0m__init__\u001b[0m\u001b[1;33m(\u001b[0m\u001b[0mself\u001b[0m\u001b[1;33m,\u001b[0m \u001b[1;33m*\u001b[0m\u001b[0margs\u001b[0m\u001b[1;33m,\u001b[0m \u001b[1;33m**\u001b[0m\u001b[0mkwd\u001b[0m\u001b[1;33m)\u001b[0m\u001b[1;33m\u001b[0m\u001b[1;33m\u001b[0m\u001b[0m\n\u001b[0m\u001b[0;32m    576\u001b[0m         \u001b[1;31m#\u001b[0m\u001b[1;33m\u001b[0m\u001b[1;33m\u001b[0m\u001b[1;33m\u001b[0m\u001b[0m\n\u001b[0;32m    577\u001b[0m         \u001b[1;31m# Determine if the domain argument is a functor or other object\u001b[0m\u001b[1;33m\u001b[0m\u001b[1;33m\u001b[0m\u001b[1;33m\u001b[0m\u001b[0m\n",
      "\u001b[1;32mC:\\Users\\ahmeda5\\Miniconda3\\lib\\site-packages\\pyomo\\core\\base\\indexed_component.py\u001b[0m in \u001b[0;36m__init__\u001b[1;34m(self, *args, **kwds)\u001b[0m\n\u001b[0;32m    213\u001b[0m             \u001b[1;31m# \"transferred\" to the model).\u001b[0m\u001b[1;33m\u001b[0m\u001b[1;33m\u001b[0m\u001b[1;33m\u001b[0m\u001b[0m\n\u001b[0;32m    214\u001b[0m             \u001b[1;31m#\u001b[0m\u001b[1;33m\u001b[0m\u001b[1;33m\u001b[0m\u001b[1;33m\u001b[0m\u001b[0m\n\u001b[1;32m--> 215\u001b[1;33m             \u001b[0mtmp\u001b[0m \u001b[1;33m=\u001b[0m \u001b[1;33m[\u001b[0m\u001b[0mprocess_setarg\u001b[0m\u001b[1;33m(\u001b[0m\u001b[0mx\u001b[0m\u001b[1;33m)\u001b[0m \u001b[1;32mfor\u001b[0m \u001b[0mx\u001b[0m \u001b[1;32min\u001b[0m \u001b[0margs\u001b[0m\u001b[1;33m]\u001b[0m\u001b[1;33m\u001b[0m\u001b[1;33m\u001b[0m\u001b[0m\n\u001b[0m\u001b[0;32m    216\u001b[0m             \u001b[0mself\u001b[0m\u001b[1;33m.\u001b[0m\u001b[0m_implicit_subsets\u001b[0m \u001b[1;33m=\u001b[0m \u001b[0mtmp\u001b[0m\u001b[1;33m\u001b[0m\u001b[1;33m\u001b[0m\u001b[0m\n\u001b[0;32m    217\u001b[0m             \u001b[0mself\u001b[0m\u001b[1;33m.\u001b[0m\u001b[0m_index\u001b[0m \u001b[1;33m=\u001b[0m \u001b[0mtmp\u001b[0m\u001b[1;33m[\u001b[0m\u001b[1;36m0\u001b[0m\u001b[1;33m]\u001b[0m\u001b[1;33m.\u001b[0m\u001b[0mcross\u001b[0m\u001b[1;33m(\u001b[0m\u001b[1;33m*\u001b[0m\u001b[0mtmp\u001b[0m\u001b[1;33m[\u001b[0m\u001b[1;36m1\u001b[0m\u001b[1;33m:\u001b[0m\u001b[1;33m]\u001b[0m\u001b[1;33m)\u001b[0m\u001b[1;33m\u001b[0m\u001b[1;33m\u001b[0m\u001b[0m\n",
      "\u001b[1;32mC:\\Users\\ahmeda5\\Miniconda3\\lib\\site-packages\\pyomo\\core\\base\\indexed_component.py\u001b[0m in \u001b[0;36m<listcomp>\u001b[1;34m(.0)\u001b[0m\n\u001b[0;32m    213\u001b[0m             \u001b[1;31m# \"transferred\" to the model).\u001b[0m\u001b[1;33m\u001b[0m\u001b[1;33m\u001b[0m\u001b[1;33m\u001b[0m\u001b[0m\n\u001b[0;32m    214\u001b[0m             \u001b[1;31m#\u001b[0m\u001b[1;33m\u001b[0m\u001b[1;33m\u001b[0m\u001b[1;33m\u001b[0m\u001b[0m\n\u001b[1;32m--> 215\u001b[1;33m             \u001b[0mtmp\u001b[0m \u001b[1;33m=\u001b[0m \u001b[1;33m[\u001b[0m\u001b[0mprocess_setarg\u001b[0m\u001b[1;33m(\u001b[0m\u001b[0mx\u001b[0m\u001b[1;33m)\u001b[0m \u001b[1;32mfor\u001b[0m \u001b[0mx\u001b[0m \u001b[1;32min\u001b[0m \u001b[0margs\u001b[0m\u001b[1;33m]\u001b[0m\u001b[1;33m\u001b[0m\u001b[1;33m\u001b[0m\u001b[0m\n\u001b[0m\u001b[0;32m    216\u001b[0m             \u001b[0mself\u001b[0m\u001b[1;33m.\u001b[0m\u001b[0m_implicit_subsets\u001b[0m \u001b[1;33m=\u001b[0m \u001b[0mtmp\u001b[0m\u001b[1;33m\u001b[0m\u001b[1;33m\u001b[0m\u001b[0m\n\u001b[0;32m    217\u001b[0m             \u001b[0mself\u001b[0m\u001b[1;33m.\u001b[0m\u001b[0m_index\u001b[0m \u001b[1;33m=\u001b[0m \u001b[0mtmp\u001b[0m\u001b[1;33m[\u001b[0m\u001b[1;36m0\u001b[0m\u001b[1;33m]\u001b[0m\u001b[1;33m.\u001b[0m\u001b[0mcross\u001b[0m\u001b[1;33m(\u001b[0m\u001b[1;33m*\u001b[0m\u001b[0mtmp\u001b[0m\u001b[1;33m[\u001b[0m\u001b[1;36m1\u001b[0m\u001b[1;33m:\u001b[0m\u001b[1;33m]\u001b[0m\u001b[1;33m)\u001b[0m\u001b[1;33m\u001b[0m\u001b[1;33m\u001b[0m\u001b[0m\n",
      "\u001b[1;32mC:\\Users\\ahmeda5\\Miniconda3\\lib\\site-packages\\pyomo\\core\\base\\set.py\u001b[0m in \u001b[0;36mprocess_setarg\u001b[1;34m(arg)\u001b[0m\n\u001b[0;32m    109\u001b[0m         raise TypeError(\"Cannot apply a Set operator to an \"\n\u001b[0;32m    110\u001b[0m                         \u001b[1;34m\"indexed %s component (%s)\"\u001b[0m\u001b[1;33m\u001b[0m\u001b[1;33m\u001b[0m\u001b[0m\n\u001b[1;32m--> 111\u001b[1;33m                         % (arg.ctype.__name__, arg.name,))\n\u001b[0m\u001b[0;32m    112\u001b[0m     \u001b[1;32melif\u001b[0m \u001b[0misinstance\u001b[0m\u001b[1;33m(\u001b[0m\u001b[0marg\u001b[0m\u001b[1;33m,\u001b[0m \u001b[0mComponent\u001b[0m\u001b[1;33m)\u001b[0m\u001b[1;33m:\u001b[0m\u001b[1;33m\u001b[0m\u001b[1;33m\u001b[0m\u001b[0m\n\u001b[0;32m    113\u001b[0m         raise TypeError(\"Cannot apply a Set operator to a non-Set \"\n",
      "\u001b[1;31mTypeError\u001b[0m: Cannot apply a Set operator to an indexed Set component (DR)"
     ]
    }
   ],
   "source": [
    "m.phi = Var(domain = NonNegativeReals, doc = 'net pesent cost throughout the time horizon, including amoritized investement\\\n",
    "                                              costs, operational and environmental cost ($)')\n",
    "\n",
    "m.phi_opex = Var(m.T, domain = NonNegativeReals, doc = 'amortized operating costs in year t ($)')\n",
    "\n",
    "m.phi_capex = Var(m.T, domain = NonNegativeReals, doc = 'amortized investment costs in year t ($)')\n",
    "\n",
    "m.phi_PEN = Var(m.T, domain = NonNegativeReals, doc = 'amortized penalty costs in year t ($)')\n",
    "\n",
    "m.p = Var(m.I,m.R,m.T,m.D,m.S, domain = NonNegativeReals, doc = 'power output of generation cluster i in r during \\\n",
    "                                                                 s of d of t (MW)')\n",
    "\n",
    "m.def_rn = Var(m.T, domain = NonNegativeReals, doc = 'deficit from renewable enrgy quota target during yeart t (MW hour)')\n",
    "\n",
    "m.cu_ = Var(m.R,m.T,m.D,m.S, domain = NonNegativeReals, doc = 'curtailment slack generation in r, during s, of d, of t(MW)' ) \n",
    "\n",
    "m.p_flow = Var(m.DR,m.T,m.D,m.S, domain = NonNegativeReals, doc = \"power transfer from r to r' during s of d of t (MW)\")\n",
    "\n",
    "m.q_spin = Var(m.Im.R,m.T,m.D,m.S, domain = NonNegativeReals, doc = 'spinning reserve capacity of I in r during \\\n",
    "                                                                     s of d of t (MW)')\n",
    "\n",
    "m.q_Qstart = Var(m.I,m.R,m.T,m.D,m.S, domain = NonNegativeReals, doc = 'quick-start capacity reserve of I in r during \\\n",
    "                                                                        s of d of t (MW)')\n",
    "\n",
    "m.ngo_rn = Var(m.I_RN,m.R,m.T, domain = NonNegativeReals, doc = '# of generators that are operational in I_RN of r in t')\n",
    "\n",
    "m.ngb_rn = Var(m.I_RN,m.R,m.T, domain = NonNegativeReals, doc = '# of generators that are built in I_RN of r in t')\n",
    "\n",
    "m.ngr_rn = Var(m.I_RN,m.R,m.T, domain = NonNegativeReals, doc = '# of generators that retire in I_RN of r in t')\n",
    "\n",
    "m.nge_rn = Var(m.I_RN,m.R,m.T, domain = NonNegativeReals, doc = '# of generators that had life extended in I_RN of r in t')\n",
    "\n",
    "m.p_charge = Var(m.J,m.R,m.T,m.D,m.S, domain = NonNegativeReals, doc = 'power being charged to cluster j in r during \\\n",
    "                                                                        s of d of t (MW)')\n",
    "\n",
    "m.p_discharge = Var(m.J,m.R,m.T,m.D,m.S, domain = NonNegativeReals, doc = 'power being discharged to j in r during \\\n",
    "                                                                           s of d of t (MW)')\n",
    "\n",
    "m.p_level = Var(m.J,m.R,m.T,m.D,m.S, domain = NonNegativeReals, doc = 'state of charge of cluster j in r during \\\n",
    "                                                                       s of d of t (MW hour)')\n",
    "\n",
    "m.p_level0 = Var(m.J,m.R,m.T,m.D, domain = NonNegativeReals, doc = 'state of charge of cluster j in r during s of \\\n",
    "                                                                    d of t (MW hour)')\n",
    "\n",
    "m.nso = Var(m.J,m.R,m.T, domain = NonNegativeReals, doc = '# of storage units operational in j of r in t')\n",
    "\n",
    "m.nsb = Var(m.J,m.R,m.T, domain = NonNegatigeReals, doc = '# of storage units built in j of r in t')\n",
    "\n",
    "m.nsr = Var(m.J,m.R,m.T, domain = NonNegativeReals, doc = '# of storage units that retire in j of r in t')\n",
    "\n",
    "m.phi_t = Var(m.T, domain = NonNegativeReals, doc = 'objective function value for subproblem t assuming exact representation \\\n",
    "                                                     of the cost-to-go function ($)')\n",
    "\n",
    "m.phi_tk = Var(m.T,m.K, domain = NonNegativeReals, doc = 'objective function value for subproblem t in iteration k ($)')\n",
    "\n",
    "m.ctg = Var(m.T,m,K, domain = NonNegativeReals, doc = 'cost-to-go function ($)')\n",
    "\n",
    "m.alpha = Var(m.T, domain = NonNegativeReals, doc = 'expected future year cost, when calculating cost for year t ($)')\n",
    "\n",
    "m.phi_LP = Var(m.T,m.K, domain = NonNegativeReals, doc = 'net present cost of linear relaxation of subproblem for t in \\\n",
    "                                                          iteration k ($)')\n",
    "\n",
    "m.phi_LR = Var(m.T,m.K, domain = NonNegativeReals, doc = 'net present cost of Lagrangean relaxation of subproblem for t in \\\n",
    "                                                          iteration k ($)')\n",
    "\n",
    "m.phi_LD = Var(m.T,m.K, domain = NonNegativeReals, doc = 'net present cost of Lagrangean dual of subproblem for t in iteration \\\n",
    "                                                          k ($)')\n",
    "\n",
    "m.phi_OP = Var(m.T,m.K, domain = NonNegativeReals, doc = 'net present cost of original MILP subproblem for t in iteration \\\n",
    "                                                          k ($)')\n",
    "\n",
    "m.ngo_rnprev = Var(m.I_RN,m.R,m.T, domain = NonNegativeReals, doc = '# of generators operational in I_RN of r in year t-1')\n",
    "\n",
    "m.ngb_rnprev = Var(m.I_RN,m.R,m.T, domain = NonNegativeReals, doc = '# of generators built in I_RN of r in year t-LT')\n",
    "\n",
    "m.ngo_thprev = Var(m.I_TH,m.R,m.T, domain = NonNegativeReals, doc = '# of generators operational in I_TH of r in year t-1')\n",
    "\n",
    "m.ngb_thprev = Var(m.I_TH,m.R,m.T, domain = NonNegativeReals, doc = '# of generators built in I_TH of r in year t-LT')\n",
    "\n",
    "m.x = Var(m.T, domain = NonNegativeReals, doc = 'state linking variables in concise notation')\n",
    "\n",
    "m.Z = Var(m.T, domain = NonNegativeReals, doc = 'duplicated state variables in concise notation')\n",
    "\n",
    "m.y= Var(m.T, domain = NonNegativeReals, doc = 'local variables in concise notation')"
   ]
  },
  {
   "cell_type": "markdown",
   "id": "41612443",
   "metadata": {},
   "source": [
    "#### Discrete Variable Declerations"
   ]
  },
  {
   "cell_type": "code",
   "execution_count": 5,
   "id": "cc390afd",
   "metadata": {},
   "outputs": [
    {
     "ename": "TypeError",
     "evalue": "Cannot apply a Set operator to an indexed Set component (I_TH)",
     "output_type": "error",
     "traceback": [
      "\u001b[1;31m---------------------------------------------------------------------------\u001b[0m",
      "\u001b[1;31mTypeError\u001b[0m                                 Traceback (most recent call last)",
      "\u001b[1;32m<ipython-input-5-f1251c1e80a2>\u001b[0m in \u001b[0;36m<module>\u001b[1;34m\u001b[0m\n\u001b[1;32m----> 1\u001b[1;33m \u001b[0mm\u001b[0m\u001b[1;33m.\u001b[0m\u001b[0mngo_th\u001b[0m \u001b[1;33m=\u001b[0m \u001b[0mVar\u001b[0m\u001b[1;33m(\u001b[0m\u001b[0mm\u001b[0m\u001b[1;33m.\u001b[0m\u001b[0mI_TH\u001b[0m\u001b[1;33m,\u001b[0m\u001b[0mm\u001b[0m\u001b[1;33m.\u001b[0m\u001b[0mR\u001b[0m\u001b[1;33m,\u001b[0m\u001b[0mm\u001b[0m\u001b[1;33m.\u001b[0m\u001b[0mT\u001b[0m\u001b[1;33m,\u001b[0m \u001b[0mdomain\u001b[0m \u001b[1;33m=\u001b[0m \u001b[0mPositiveIntegers\u001b[0m\u001b[1;33m,\u001b[0m \u001b[0mdoc\u001b[0m \u001b[1;33m=\u001b[0m \u001b[1;34m'# of generators that are operational in I_TH of r in t'\u001b[0m\u001b[1;33m)\u001b[0m\u001b[1;33m\u001b[0m\u001b[1;33m\u001b[0m\u001b[0m\n\u001b[0m\u001b[0;32m      2\u001b[0m \u001b[1;33m\u001b[0m\u001b[0m\n\u001b[0;32m      3\u001b[0m \u001b[0mm\u001b[0m\u001b[1;33m.\u001b[0m\u001b[0mngb_th\u001b[0m \u001b[1;33m=\u001b[0m \u001b[0mVar\u001b[0m\u001b[1;33m(\u001b[0m\u001b[0mm\u001b[0m\u001b[1;33m.\u001b[0m\u001b[0mI_TH\u001b[0m\u001b[1;33m,\u001b[0m\u001b[0mm\u001b[0m\u001b[1;33m.\u001b[0m\u001b[0mR\u001b[0m\u001b[1;33m,\u001b[0m\u001b[0mm\u001b[0m\u001b[1;33m.\u001b[0m\u001b[0mT\u001b[0m\u001b[1;33m,\u001b[0m \u001b[0mdomain\u001b[0m \u001b[1;33m=\u001b[0m \u001b[0mPositiveIntegers\u001b[0m\u001b[1;33m,\u001b[0m \u001b[0mdoc\u001b[0m \u001b[1;33m=\u001b[0m \u001b[1;34m'# of generators that are built in I_TH of r in t'\u001b[0m\u001b[1;33m)\u001b[0m\u001b[1;33m\u001b[0m\u001b[1;33m\u001b[0m\u001b[0m\n\u001b[0;32m      4\u001b[0m \u001b[1;33m\u001b[0m\u001b[0m\n\u001b[0;32m      5\u001b[0m \u001b[0mm\u001b[0m\u001b[1;33m.\u001b[0m\u001b[0mngr_th\u001b[0m \u001b[1;33m=\u001b[0m \u001b[0mVar\u001b[0m\u001b[1;33m(\u001b[0m\u001b[0mm\u001b[0m\u001b[1;33m.\u001b[0m\u001b[0mI_TH\u001b[0m\u001b[1;33m,\u001b[0m\u001b[0mm\u001b[0m\u001b[1;33m.\u001b[0m\u001b[0mR\u001b[0m\u001b[1;33m,\u001b[0m\u001b[0mm\u001b[0m\u001b[1;33m.\u001b[0m\u001b[0mT\u001b[0m\u001b[1;33m,\u001b[0m \u001b[0mdomain\u001b[0m \u001b[1;33m=\u001b[0m \u001b[0mPositiveIntegers\u001b[0m\u001b[1;33m,\u001b[0m \u001b[0mdoc\u001b[0m \u001b[1;33m=\u001b[0m \u001b[1;34m'# of generators that retire in I_TH of r in t'\u001b[0m\u001b[1;33m)\u001b[0m\u001b[1;33m\u001b[0m\u001b[1;33m\u001b[0m\u001b[0m\n",
      "\u001b[1;32mC:\\Users\\ahmeda5\\Miniconda3\\lib\\site-packages\\pyomo\\core\\base\\var.py\u001b[0m in \u001b[0;36m__init__\u001b[1;34m(self, *args, **kwd)\u001b[0m\n\u001b[0;32m    573\u001b[0m         \u001b[1;31m#\u001b[0m\u001b[1;33m\u001b[0m\u001b[1;33m\u001b[0m\u001b[1;33m\u001b[0m\u001b[0m\n\u001b[0;32m    574\u001b[0m         \u001b[0mkwd\u001b[0m\u001b[1;33m.\u001b[0m\u001b[0msetdefault\u001b[0m\u001b[1;33m(\u001b[0m\u001b[1;34m'ctype'\u001b[0m\u001b[1;33m,\u001b[0m \u001b[0mVar\u001b[0m\u001b[1;33m)\u001b[0m\u001b[1;33m\u001b[0m\u001b[1;33m\u001b[0m\u001b[0m\n\u001b[1;32m--> 575\u001b[1;33m         \u001b[0mIndexedComponent\u001b[0m\u001b[1;33m.\u001b[0m\u001b[0m__init__\u001b[0m\u001b[1;33m(\u001b[0m\u001b[0mself\u001b[0m\u001b[1;33m,\u001b[0m \u001b[1;33m*\u001b[0m\u001b[0margs\u001b[0m\u001b[1;33m,\u001b[0m \u001b[1;33m**\u001b[0m\u001b[0mkwd\u001b[0m\u001b[1;33m)\u001b[0m\u001b[1;33m\u001b[0m\u001b[1;33m\u001b[0m\u001b[0m\n\u001b[0m\u001b[0;32m    576\u001b[0m         \u001b[1;31m#\u001b[0m\u001b[1;33m\u001b[0m\u001b[1;33m\u001b[0m\u001b[1;33m\u001b[0m\u001b[0m\n\u001b[0;32m    577\u001b[0m         \u001b[1;31m# Determine if the domain argument is a functor or other object\u001b[0m\u001b[1;33m\u001b[0m\u001b[1;33m\u001b[0m\u001b[1;33m\u001b[0m\u001b[0m\n",
      "\u001b[1;32mC:\\Users\\ahmeda5\\Miniconda3\\lib\\site-packages\\pyomo\\core\\base\\indexed_component.py\u001b[0m in \u001b[0;36m__init__\u001b[1;34m(self, *args, **kwds)\u001b[0m\n\u001b[0;32m    213\u001b[0m             \u001b[1;31m# \"transferred\" to the model).\u001b[0m\u001b[1;33m\u001b[0m\u001b[1;33m\u001b[0m\u001b[1;33m\u001b[0m\u001b[0m\n\u001b[0;32m    214\u001b[0m             \u001b[1;31m#\u001b[0m\u001b[1;33m\u001b[0m\u001b[1;33m\u001b[0m\u001b[1;33m\u001b[0m\u001b[0m\n\u001b[1;32m--> 215\u001b[1;33m             \u001b[0mtmp\u001b[0m \u001b[1;33m=\u001b[0m \u001b[1;33m[\u001b[0m\u001b[0mprocess_setarg\u001b[0m\u001b[1;33m(\u001b[0m\u001b[0mx\u001b[0m\u001b[1;33m)\u001b[0m \u001b[1;32mfor\u001b[0m \u001b[0mx\u001b[0m \u001b[1;32min\u001b[0m \u001b[0margs\u001b[0m\u001b[1;33m]\u001b[0m\u001b[1;33m\u001b[0m\u001b[1;33m\u001b[0m\u001b[0m\n\u001b[0m\u001b[0;32m    216\u001b[0m             \u001b[0mself\u001b[0m\u001b[1;33m.\u001b[0m\u001b[0m_implicit_subsets\u001b[0m \u001b[1;33m=\u001b[0m \u001b[0mtmp\u001b[0m\u001b[1;33m\u001b[0m\u001b[1;33m\u001b[0m\u001b[0m\n\u001b[0;32m    217\u001b[0m             \u001b[0mself\u001b[0m\u001b[1;33m.\u001b[0m\u001b[0m_index\u001b[0m \u001b[1;33m=\u001b[0m \u001b[0mtmp\u001b[0m\u001b[1;33m[\u001b[0m\u001b[1;36m0\u001b[0m\u001b[1;33m]\u001b[0m\u001b[1;33m.\u001b[0m\u001b[0mcross\u001b[0m\u001b[1;33m(\u001b[0m\u001b[1;33m*\u001b[0m\u001b[0mtmp\u001b[0m\u001b[1;33m[\u001b[0m\u001b[1;36m1\u001b[0m\u001b[1;33m:\u001b[0m\u001b[1;33m]\u001b[0m\u001b[1;33m)\u001b[0m\u001b[1;33m\u001b[0m\u001b[1;33m\u001b[0m\u001b[0m\n",
      "\u001b[1;32mC:\\Users\\ahmeda5\\Miniconda3\\lib\\site-packages\\pyomo\\core\\base\\indexed_component.py\u001b[0m in \u001b[0;36m<listcomp>\u001b[1;34m(.0)\u001b[0m\n\u001b[0;32m    213\u001b[0m             \u001b[1;31m# \"transferred\" to the model).\u001b[0m\u001b[1;33m\u001b[0m\u001b[1;33m\u001b[0m\u001b[1;33m\u001b[0m\u001b[0m\n\u001b[0;32m    214\u001b[0m             \u001b[1;31m#\u001b[0m\u001b[1;33m\u001b[0m\u001b[1;33m\u001b[0m\u001b[1;33m\u001b[0m\u001b[0m\n\u001b[1;32m--> 215\u001b[1;33m             \u001b[0mtmp\u001b[0m \u001b[1;33m=\u001b[0m \u001b[1;33m[\u001b[0m\u001b[0mprocess_setarg\u001b[0m\u001b[1;33m(\u001b[0m\u001b[0mx\u001b[0m\u001b[1;33m)\u001b[0m \u001b[1;32mfor\u001b[0m \u001b[0mx\u001b[0m \u001b[1;32min\u001b[0m \u001b[0margs\u001b[0m\u001b[1;33m]\u001b[0m\u001b[1;33m\u001b[0m\u001b[1;33m\u001b[0m\u001b[0m\n\u001b[0m\u001b[0;32m    216\u001b[0m             \u001b[0mself\u001b[0m\u001b[1;33m.\u001b[0m\u001b[0m_implicit_subsets\u001b[0m \u001b[1;33m=\u001b[0m \u001b[0mtmp\u001b[0m\u001b[1;33m\u001b[0m\u001b[1;33m\u001b[0m\u001b[0m\n\u001b[0;32m    217\u001b[0m             \u001b[0mself\u001b[0m\u001b[1;33m.\u001b[0m\u001b[0m_index\u001b[0m \u001b[1;33m=\u001b[0m \u001b[0mtmp\u001b[0m\u001b[1;33m[\u001b[0m\u001b[1;36m0\u001b[0m\u001b[1;33m]\u001b[0m\u001b[1;33m.\u001b[0m\u001b[0mcross\u001b[0m\u001b[1;33m(\u001b[0m\u001b[1;33m*\u001b[0m\u001b[0mtmp\u001b[0m\u001b[1;33m[\u001b[0m\u001b[1;36m1\u001b[0m\u001b[1;33m:\u001b[0m\u001b[1;33m]\u001b[0m\u001b[1;33m)\u001b[0m\u001b[1;33m\u001b[0m\u001b[1;33m\u001b[0m\u001b[0m\n",
      "\u001b[1;32mC:\\Users\\ahmeda5\\Miniconda3\\lib\\site-packages\\pyomo\\core\\base\\set.py\u001b[0m in \u001b[0;36mprocess_setarg\u001b[1;34m(arg)\u001b[0m\n\u001b[0;32m    109\u001b[0m         raise TypeError(\"Cannot apply a Set operator to an \"\n\u001b[0;32m    110\u001b[0m                         \u001b[1;34m\"indexed %s component (%s)\"\u001b[0m\u001b[1;33m\u001b[0m\u001b[1;33m\u001b[0m\u001b[0m\n\u001b[1;32m--> 111\u001b[1;33m                         % (arg.ctype.__name__, arg.name,))\n\u001b[0m\u001b[0;32m    112\u001b[0m     \u001b[1;32melif\u001b[0m \u001b[0misinstance\u001b[0m\u001b[1;33m(\u001b[0m\u001b[0marg\u001b[0m\u001b[1;33m,\u001b[0m \u001b[0mComponent\u001b[0m\u001b[1;33m)\u001b[0m\u001b[1;33m:\u001b[0m\u001b[1;33m\u001b[0m\u001b[1;33m\u001b[0m\u001b[0m\n\u001b[0;32m    113\u001b[0m         raise TypeError(\"Cannot apply a Set operator to a non-Set \"\n",
      "\u001b[1;31mTypeError\u001b[0m: Cannot apply a Set operator to an indexed Set component (I_TH)"
     ]
    }
   ],
   "source": [
    "m.ngo_th = Var(m.I_TH,m.R,m.T, domain = PositiveIntegers, doc = '# of generators that are operational in I_TH of r in t')\n",
    "\n",
    "m.ngb_th = Var(m.I_TH,m.R,m.T, domain = PositiveIntegers, doc = '# of generators that are built in I_TH of r in t')\n",
    "\n",
    "m.ngr_th = Var(m.I_TH,m.R,m.T, domain = PositiveIntegers, doc = '# of generators that retire in I_TH of r in t')\n",
    "\n",
    "m.nge_th = Var(m.I_TH,m.R,m.T, domain = PositiveIntegers, doc = '# of generators that had life extended in I_TH of r in t')\n",
    "\n",
    "m.u = Var(m.I,m.R,m.T,m.D,m.S, domain = PositiveIntegers, doc = ' # Thermal generators on in I_r of r during s of d of t')\n",
    "\n",
    "m.su = Var(m.I,m.R,m.T,m.D,m.S, domain = PositiveIntegers, doc = ' # Thermal generators starting up in I_r ')\n",
    "\n",
    "m.sd= Var(m.I,m.R,m.T,m.D,m.S, domain = PositiveIntegers, doc = ' # Thermal generators shutting down in I_r')"
   ]
  },
  {
   "cell_type": "markdown",
   "id": "beb7b082",
   "metadata": {},
   "source": [
    " "
   ]
  },
  {
   "cell_type": "markdown",
   "id": "e792452d",
   "metadata": {},
   "source": [
    "#### Operational Constraints"
   ]
  },
  {
   "cell_type": "markdown",
   "id": "56bb1622",
   "metadata": {},
   "source": [
    "#### (1) Energy Balance"
   ]
  },
  {
   "cell_type": "code",
   "execution_count": null,
   "id": "9ba98d4c",
   "metadata": {},
   "outputs": [],
   "source": [
    "def EB_rule(m,r,r1,t,d,s):\n",
    "    return sum(m.p[i,r,t,d,s] for i in m.I) + sum(m.p_flow[r1,r,t,d,s] * (1 - m.T_loss[r,r1] * m.D[r,r1]) - m.p_flow[r,r1,t,d,s]) + \n",
    "    sum(m.p_discharge[j,r,t,d,s] for j in m.J) == m.L[r,t,d,s] + sum(m.p_charge[j,r,t,d,s] + m.cu[r,t,d,s] for j in m.J)\n",
    "m.EB = Constraint(m.DR,m.T,m.D,m.S, rule = EB_rule)"
   ]
  },
  {
   "cell_type": "markdown",
   "id": "e8d5e344",
   "metadata": {},
   "source": [
    "#### (2) Capacity Factor Constraint"
   ]
  },
  {
   "cell_type": "code",
   "execution_count": null,
   "id": "c5786d69",
   "metadata": {},
   "outputs": [],
   "source": [
    "def CFC_rule(m,r,t,d,s):\n",
    "    return p[i,r,t,d,s] == m.Qg_np[i,r] * m.Cf[i,r,t,d,s] *ngo_rn[i,r,t] for i in m.I_RN_r\n",
    "m.CFC = Constraint(m.R,m.T,m.D,m.S, rule = CFC_rule)"
   ]
  },
  {
   "cell_type": "markdown",
   "id": "a3387104",
   "metadata": {},
   "source": [
    "#### (3) Unit Commitment Constraint"
   ]
  },
  {
   "cell_type": "code",
   "execution_count": null,
   "id": "5f88b591",
   "metadata": {},
   "outputs": [],
   "source": [
    "def UCC_rule(m,r,t,d,s):\n",
    "    return m.u[i,r,t,d,s] == m.u[i,r,t,d,s-1] + m.su[i,r,t,d,s] - m.sd[i,r,t,d,s] for i in m.I_r\n",
    "m.UCC = Constraint(m.R,m.T,m.D,m.S, rule = UCC_rule)"
   ]
  },
  {
   "cell_type": "markdown",
   "id": "281f2f7d",
   "metadata": {},
   "source": [
    "#### (4), (5) Ramping Limit Constriants"
   ]
  },
  {
   "cell_type": "code",
   "execution_count": null,
   "id": "76011c2b",
   "metadata": {},
   "outputs": [],
   "source": [
    "def RLC_rule1(m,r,t,d,s):\n",
    "    return (m.p[i,r,t,d,s] - m.p[i,r,t,d,s-1]) <= m.Ru_max[i] * m.Hs * m.Qg_np[i,r] * (m.u[i,r,t,d,s] - m.su[i,r,t,d,s])\n",
    "           + max(m.Pg_min[i], m.Ru_max[i] * m.Hs) * m.Qg_np[i,r] * m.su[i,r,t,d,s] for i in m.I_TH\n",
    "m.RLC1 = Constraint(m.R,m.T,m.D,m.S, rule = RLC_rule1)"
   ]
  },
  {
   "cell_type": "code",
   "execution_count": null,
   "id": "956f67a0",
   "metadata": {},
   "outputs": [],
   "source": [
    "def RLC_rule2(m,r,t,d,s):\n",
    "    return (m.p[i,r,t,d,s-1] - m.p[i,r,t,d,s]) <= m.Rd_max[i] * m.Hs * m.Qg_np[i,r] * (m.u[i,r,t,d,s] - m.su[i,r,t,d,s])\n",
    "           + max(m.Pg_min[i], m.Rd_max[i] * m.Hs) *m.Qg_np[i,r] * m.sd[i,r,t,d,s] for i in m.I_TH\n",
    "m.RLC2 = Constraint(m.R,m.T,m.D,m.S, rule = RLC_rule2)    "
   ]
  },
  {
   "cell_type": "markdown",
   "id": "d571c213",
   "metadata": {},
   "source": [
    "#### (6), (7) Operating Limit Constraints"
   ]
  },
  {
   "cell_type": "code",
   "execution_count": null,
   "id": "d5d3d0aa",
   "metadata": {},
   "outputs": [],
   "source": [
    "def OLC_rule1(m,r,t,d,s):\n",
    "    return (m.u[i,r,t,d,s] * m.Pg_min[i] * m.Qg_np[i,r]) <= m.p[i,r,t,d,s] for i in m.I_TH\n",
    "m.OLC1 = Constraint(m.R,m.T,m.D,m.S, rule = OLC_rule1)"
   ]
  },
  {
   "cell_type": "code",
   "execution_count": null,
   "id": "cf939b44",
   "metadata": {},
   "outputs": [],
   "source": [
    "def OLC_rule2(m,r,t,d,s):\n",
    "    return (m.p[i,r,t,d,s] + m.q_spin[i,r,t,d,s]) <= (m.u[i,r,t,d,s] * m.Qg_np[i,r]) for i in m.I_TH\n",
    "m.OLC2 = Constraint(m.R,m.T,m.D,m.S, rule = OLC_rule2)"
   ]
  },
  {
   "cell_type": "markdown",
   "id": "65e520b4",
   "metadata": {},
   "source": [
    "#### (8) Total Operating Reserve Constraint"
   ]
  },
  {
   "cell_type": "code",
   "execution_count": null,
   "id": "0bc0ce69",
   "metadata": {},
   "outputs": [],
   "source": [
    "def TORC_rule(m,r,t,d,s):\n",
    "    return sum((m.q_spin[i,r,t,d,s] + m.q_Qstart[i,r,t,d,s]) for i in m.I_TH_r) >= m.Op_min * L[r,t,d,s]\n",
    "m.TORC = Constraint(m.R,m.T,m.D,m.S, rule = TORC_rule)"
   ]
  },
  {
   "cell_type": "markdown",
   "id": "57486c14",
   "metadata": {},
   "source": [
    "#### (9) Total Spinning Reserve Constraint"
   ]
  },
  {
   "cell_type": "code",
   "execution_count": null,
   "id": "d94f7f26",
   "metadata": {},
   "outputs": [],
   "source": [
    "def TSRC_rule(m,r,t,d,s):\n",
    "    return sum(m.q_spin[i,r,t,d,s] for i in m.I_TH) >= m.Spin_min * L[r,t,d,s]\n",
    "m.TSRC = Constraint(m.m.R,m.T,m.D,m.S, rule = TSRC_rule)"
   ]
  },
  {
   "cell_type": "markdown",
   "id": "dca51972",
   "metadata": {},
   "source": [
    "#### (10) Maximum Spinning Reserve Constraint"
   ]
  },
  {
   "cell_type": "code",
   "execution_count": null,
   "id": "b1e34031",
   "metadata": {},
   "outputs": [],
   "source": [
    "def MSRC_rule(m,r,t,d,s):\n",
    "    return m.q_spin[i,r,t,d,s] <= m.u[i,r,t,d,s] * m.Qg_np[i,r] * m.Frac_spin[i] for i in m.I_TH\n",
    "m.MSRC = Constraint(m.R,m.T,m.D,m.S, rule = MSRC_rule)"
   ]
  },
  {
   "cell_type": "markdown",
   "id": "418a52a0",
   "metadata": {},
   "source": [
    "#### (11) Maximum Quick-Start Reserve Constraint"
   ]
  },
  {
   "cell_type": "code",
   "execution_count": null,
   "id": "e17f3c47",
   "metadata": {},
   "outputs": [],
   "source": [
    "def MQSRC_rule(m,r,t,d,s):\n",
    "    return m.q_Qstart[i,r,t,d,s] <= (m.ngo_th[i,r,t] - m.u[i,r,t,d,s]) * m.Qg_np[i,r] * m.Frac_Qstart[i] for i in m.I_TH\n",
    "m.MQSRC = Constraint(m.R,m.T,m.D,m.S, rule = MQSRC_rule)"
   ]
  },
  {
   "cell_type": "markdown",
   "id": "835c645b",
   "metadata": {},
   "source": [
    "#### (12) Planning Reserve Requirement"
   ]
  },
  {
   "cell_type": "code",
   "execution_count": null,
   "id": "cb081d6d",
   "metadata": {},
   "outputs": [],
   "source": [
    "def PRR_rule(m,t):\n",
    "    return sum(m.Qg_np[i,r] * m.Q_V[i] * m.ngo_rn[i,r,t] for in in m.I_RN for r in m.R) + \n",
    "           sum(m.Qg_np[i,r] * m.ngo_th[i,r,t] for i in m.I_TH for r in m.R)\n",
    "           >= (1 + m.R_min[t] * m.L_max[t])\n",
    "m.PRR_rule = Constraint(m.T, rule = PRR_rule)"
   ]
  },
  {
   "cell_type": "markdown",
   "id": "47787673",
   "metadata": {},
   "source": [
    "#### (13) Minimum Annual Renewable Generation Requirement"
   ]
  },
  {
   "cell_type": "code",
   "execution_count": null,
   "id": "118dbb2f",
   "metadata": {},
   "outputs": [],
   "source": []
  },
  {
   "cell_type": "markdown",
   "id": "57cd0778",
   "metadata": {},
   "source": [
    "#### (14), (15) Maximum Yearly Installation Constraint"
   ]
  },
  {
   "cell_type": "code",
   "execution_count": null,
   "id": "4296ad4a",
   "metadata": {},
   "outputs": [],
   "source": [
    "def MYIC_rule1(m,t):\n",
    "    return (sum(m.ngb_rn[i,r,t]) for r in m.R) <= m.Q_inst_UB[i,r] / m.Qg_np[i,r] for i in m.I_Rnew\n",
    "m.MYIC1 = Constraint(m.T, rule = MYIC_rule1)"
   ]
  },
  {
   "cell_type": "code",
   "execution_count": null,
   "id": "29fbf911",
   "metadata": {},
   "outputs": [],
   "source": [
    "def MYIC_rule2(m,t):\n",
    "    return (sum(m.ngb_th[i,r,t]) for r in m.R) <= m.Q_inst_UB[i,r] / m.Qg_np[i,r] for i in m.I_Tnew\n",
    "m.MYIC2 = Constraint(m.R,m.T, rule = MYIC_rule2)"
   ]
  },
  {
   "cell_type": "markdown",
   "id": "b37befc4",
   "metadata": {},
   "source": [
    "#### (16 - 24)  Generator Balance Constraints "
   ]
  },
  {
   "cell_type": "code",
   "execution_count": null,
   "id": "f4b7fcf5",
   "metadata": {},
   "outputs": [],
   "source": [
    "# (16,17) Renewable Generator Clusters\n",
    "\n",
    "def RGC_rule1(m,r,t): #for year 1\n",
    "    if t = 1:\n",
    "        return m.ngo_rn[i,r,t] == m.Ng_Rold[i,r] + m.ngb_rn[i,r,t] - m.ngr_rn[i,r,t] for i in I_RN\n",
    "m.RGC1 = Constraint(m.R,m.T, rule = RGC_rule1)\n",
    "\n",
    "def RGC_rule1(m,r,t > 1): #for year > 1\n",
    "    if t > 1:\n",
    "        return m.ngo_rn[i,r,t] == m.Ng_Rold[i,r,t-1] + m.ngb_rn[i,r,t] - m.ngr_rn[i,r,t] for i in I_RN\n",
    "m.RGC2 = Constraint(m.R,m.T, rule = RGC_rule2)"
   ]
  },
  {
   "cell_type": "code",
   "execution_count": null,
   "id": "d0a3ae02",
   "metadata": {},
   "outputs": [],
   "source": [
    "# (18, 19) Renewable Generators End of Life\n",
    "\n",
    "def RGEL_rule1(m,r,t):\n",
    "    return m.Ng_r [i,r,t] == m.ngr_rn[i,r,t] + m.nge_rn[i,r,t] for i in m.I_Rold\n",
    "m.RGEL1 = Constraint(m.R,m.T, rule = RGEL_rule1)\n",
    "\n",
    "def RGEL_rule2(m,r,t):\n",
    "    return #Revision\n",
    "m.RGEL2 = Constraint(m.R,m.T, rule = RGEL_rule2)"
   ]
  },
  {
   "cell_type": "code",
   "execution_count": null,
   "id": "63d64f47",
   "metadata": {},
   "outputs": [],
   "source": [
    "# (20, 21) Thermal Generator Clusters\n",
    "\n",
    "def TGC_rule1(m,r,t): #for year 1\n",
    "    if t = 1:\n",
    "        return m.ngo_th[i,r,t] == m.Ng_Told[i,r] + m.ngb_th[i,r,t] - m.ngr_th[i,r,t] for i in I_TH\n",
    "m.TGC1 = Constraint(m.R,m.T, rule = TGC_rule1)\n",
    "\n",
    "def TGC_rule1(m,r,t > 1): #for year > 1\n",
    "    if t > 1:\n",
    "        return m.ngo_th[i,r,t] == m.Ng_Told[i,r,t-1] + m.ngb_th[i,r,t] - m.ngr_th[i,r,t] for i in I_TH\n",
    "m.TGC2 = Constraint(m.R,m.T, rule = TGC_rule2)"
   ]
  },
  {
   "cell_type": "code",
   "execution_count": null,
   "id": "981850d5",
   "metadata": {},
   "outputs": [],
   "source": [
    "# (22, 23) Thermal Generators End of Life\n",
    "\n",
    "def TGEL_rule1(m,r,t):\n",
    "    return m.Ng_r [i,r,t] == m.ngr_th[i,r,t] + m.nge_th[i,r,t] for i in m.I_Told\n",
    "m.RGEL1 = Constraint(m.R,m.T, rule = TGEL_rule1)\n",
    "\n",
    "def TGEL_rule2(m,r,t):\n",
    "    return #Revision\n",
    "m.RGEL2 = Constraint(m.R,m.T, rule = TGEL_rule2)"
   ]
  },
  {
   "cell_type": "code",
   "execution_count": null,
   "id": "1a740311",
   "metadata": {},
   "outputs": [],
   "source": [
    "# (24) Installed Generators Operational ONLY\n",
    "\n",
    "def IGOO_rule(m,r,t,d,s):\n",
    "    return m.u[i,r,t,d,s] <= m.ngo_th[i,r,t] for i in m.I_Tnew\n",
    "m.IGOO = Constraint(m.R,m.T,m,D,m.S, rule = IGOO_rule)"
   ]
  },
  {
   "cell_type": "markdown",
   "id": "ca98350b",
   "metadata": {},
   "source": [
    "#### (25 - 34) Storage Constraints"
   ]
  },
  {
   "cell_type": "code",
   "execution_count": null,
   "id": "7eba6d53",
   "metadata": {},
   "outputs": [],
   "source": [
    "# (25,26) Storage Units Ready to Operate\n",
    "\n",
    "def SURO_rule1(m,j,r,t):\n",
    "    for t = 1:\n",
    "        return m.nso[j,r,t] == m.Ns[j,r] + m.nsb[j,r,t] - m.nsr[j,r,t]\n",
    "m.SURO = Constraint(m.J,m.R,m.T, rule = SURO_rule1)\n",
    "\n",
    "def SURO_rule2(m,j,r,t):\n",
    "    for t > 1:\n",
    "        return m.nso[j,r,t] == m.nso[j,r,t-1] + m.nsb[j,r,t] - m.nsr[j,r,t]\n",
    "m.SURO = Constraint(m.J,m.R,m.T, rule = SURO_rule2)"
   ]
  },
  {
   "cell_type": "code",
   "execution_count": null,
   "id": "f1ffabc7",
   "metadata": {},
   "outputs": [],
   "source": [
    "# (27) Storage Units End of Life\n",
    "\n",
    "def SUEL_rule(m,r,t):\n",
    "    return #Revision\n",
    "m.SUEL = Constraint(m.R,m.T, rule = SUEL_rule)"
   ]
  },
  {
   "cell_type": "code",
   "execution_count": null,
   "id": "d8a4fc54",
   "metadata": {},
   "outputs": [],
   "source": [
    "# (28,29) Storage Power Limits\n",
    "\n",
    "def SPL_rule1(m,j,r,t,d,s):\n",
    "    return m.Charge_min[j] * m.nso[j,r,t] <= m.p_charge[j,r,t,d,s] <= m.Charge_max[j] * m.nso[j,r,t]\n",
    "m.SPL1 = Constraint(m.J,m.R,m.T,m.D,m.S, rule = SPL_rule1)\n",
    "\n",
    "def SPL_rule2(m,j,r,t,d,s):\n",
    "    return m.Discharge_min[j] * m.nso[j,r,t] <= m.p_discharge[j,r,t,d,s] <= m.Disharge_max[j] * m.nso[j,r,t]\n",
    "m.SPL2 = Constraint(m.J,m.R,m.T,m.D,m.S, rule = SPL_rule2)"
   ]
  },
  {
   "cell_type": "code",
   "execution_count": null,
   "id": "512615d3",
   "metadata": {},
   "outputs": [],
   "source": [
    "# (30) Storage Level within Capacity\n",
    "\n",
    "def SLC_rule(m,j,r,t,d,s):\n",
    "    return m.storage_min[j] * m.nso[j,r,t] <= m.p_level[j,r,t,d,s] <= m.Storage_max[j] * m.nso[j,r,t]\n",
    "m.SLC = Constraint(m.J,m.R,m.T,m.D,m.S, rule = SLC_rule)"
   ]
  },
  {
   "cell_type": "code",
   "execution_count": null,
   "id": "27890acf",
   "metadata": {},
   "outputs": [],
   "source": [
    "# (31, 32) Power Balacne in Storage Units\n",
    "\n",
    "def PBSU_rule1(m,j,r,t,d,s):\n",
    "    for s > 1:\n",
    "        return m.p_level[j,r,t,d,s] = m.p_level[j,r,t,d,s-1] + m.eta_charge[j] * m.p_charge[j,r,t,d,s]\n",
    "               + m.p_discharge[j,r,t,d,s] / m.eta_discharge[j]\n",
    "m.PBSU1 = Constraint(m.J,m.R,m.T,m.D,m.S, rule = PBSU_rule1)\n",
    "\n",
    "def PBSU_rule2(m,j,r,t,d,s):\n",
    "    for s > 1:\n",
    "        return m.p_level[j,r,t,d,s] = m.p_level0[j,r,t,d] + m.eta_charge[j] * m.p_charge[j,r,t,d,s]\n",
    "               + m.p_discharge[j,r,t,d,s] / m.eta_discharge[j]\n",
    "m.PBSU2 = Constraint(m.J,m.R,m.T,m.D,m.S, rule = PBSU_rule2)"
   ]
  },
  {
   "cell_type": "code",
   "execution_count": null,
   "id": "acd09065",
   "metadata": {},
   "outputs": [],
   "source": [
    "#(33, 34) Storgae Unit Carryover\n",
    "\n",
    "def SUC_rule1(j,r,t,d):\n",
    "    return m.p_level0[j,r,t,d] == 0.5 * m.Storage_max[j] * m.nso[j,r,t]\n",
    "m.SUC1 = Constraint(m.r,m.T,m.D, rule = SUC_rule1)\n",
    "\n",
    "def SUC_rule2(j,r,t,d,s):\n",
    "    return m.p_level[j,r,t,d,s] == 0.5 * m.Storage_max[j] * m.nso[j,r,t]\n",
    "m.SUC2 = Constraint(m.r,m.T,m.D, rule = SUC_rule2)"
   ]
  },
  {
   "cell_type": "markdown",
   "id": "2a5a414e",
   "metadata": {},
   "source": [
    "#### (35 - 38) Objective Function"
   ]
  },
  {
   "cell_type": "code",
   "execution_count": null,
   "id": "fcd8b7a9",
   "metadata": {},
   "outputs": [],
   "source": [
    "# (35) Objective Function\n",
    "\n",
    "def objective_rule(m):\n",
    "    return sum(m.phi_opex[t] + m.phi_capex[t] + m.phi_PEN[t] for t in m.T)\n",
    "m.objective = Objective(rule = objective_rule, sense = minimize)"
   ]
  },
  {
   "cell_type": "code",
   "execution_count": null,
   "id": "21e3cc32",
   "metadata": {},
   "outputs": [],
   "source": [
    "# (36) Operating Expendature\n",
    "\n",
    "def OE_rule(m,t):\n",
    "    return m.phi_opex[t] == m.If[t] * (sum(m.W[d] * hs) *\n",
    "           sum((m.VOC[i,t] + m.P_fule[i] * m.HR[i] + m.Tx_CO2[t] * m.EF_CO2[i] * m.HR[i]) *\n",
    "           m.p[i,r,t,d,s]) for d in m.D for s in m.S for i in m.I for r in m.R) + \n",
    "           sum(m.FOC[i,t] * m.Qg_np[i,r] * m.ngo_rn[i,r,t] for i in m.I_RN for r in m.R) +\n",
    "           sum(m.FOC[i,t] * m.Qg_np[i,r] * m.ngo_th[i,r,t] for i in m.I_TH for r in m.R) +\n",
    "           sum(m.W[d] * m.Hs * m.su[i,r,t,d,s] * m.Qg_np[i,r] for i in m.I_TH for r in m.R for d in m.D for s in m.S) *\n",
    "            (m.F_start[i] * m.P_fuel[i] + m.F_start[i] * m.EF_CO2 * m.Tx_CO2 [t] + m.C_start[i] for i in m.I)\n",
    "m.OE = Constraint(m.T, rule = OE_rule) "
   ]
  },
  {
   "cell_type": "code",
   "execution_count": null,
   "id": "3871f8a1",
   "metadata": {},
   "outputs": [],
   "source": [
    "# (37) Capital Expendature\n",
    "\n",
    "def CE_rule(m,t):\n",
    "    return m.phi_capex[t] == m.If[t] * sum(m.DIC[i,t]*m.CC_m[i]*m.Qg_np[i,r] * m.ngb_rn[i,r,t] for i in m.I_Rnew for r in m.R) +\n",
    "           sum(m.DIC[i,t] * m.CC_m[i] * m.Qg_np[i,r] * m.ngb_th[i,r,t] for i in m.I_Tnew for r in m.R) +\n",
    "           sum(m.SIC[j,t] * m.Storage_max[j] * m.nsb[j,r,t] for j in m.J for r in m.R) +\n",
    "           sum(m.DIC[i,t] * m.LE[i] * m.Qg_np[i,r] * m.nge_rn[i,r,t] for i in m.I_RN for r in m.R) + \n",
    "            sum(m.DIC[i,t] * m.LE[i] * m.Qg_np[i,r] * m.nge_th[i,r,t] for i in m.I_TH for r in m.R)\n",
    "m.CE = Constraint(m.T, rule = CE_rule)"
   ]
  },
  {
   "cell_type": "code",
   "execution_count": null,
   "id": "04f9b91e",
   "metadata": {},
   "outputs": [],
   "source": [
    "# (38) Penatly Cost\n",
    "\n",
    "def PE_rule(m,t):\n",
    "    return m.If[t] * (m.PEN_rn[t]*m.def_rn[t]*m.PEN_c*sum(m.cu[r,t,d,s] for r in m.R for d in m.D for s in m.S))\n",
    "m.PE = Constraint(m.T, rule = PE_rule)"
   ]
  },
  {
   "cell_type": "markdown",
   "id": "2df49ac9",
   "metadata": {},
   "source": []
  },
  {
   "cell_type": "markdown",
   "id": "b11f923b",
   "metadata": {},
   "source": []
  },
  {
   "cell_type": "markdown",
   "id": "ad86ccc0",
   "metadata": {},
   "source": []
  },
  {
   "cell_type": "markdown",
   "id": "e122fb52",
   "metadata": {},
   "source": []
  },
  {
   "cell_type": "markdown",
   "id": "63ec4095",
   "metadata": {},
   "source": []
  },
  {
   "cell_type": "markdown",
   "id": "8e067b3f",
   "metadata": {},
   "source": []
  },
  {
   "cell_type": "markdown",
   "id": "a404d204",
   "metadata": {},
   "source": []
  },
  {
   "cell_type": "markdown",
   "id": "0d06436a",
   "metadata": {},
   "source": []
  },
  {
   "cell_type": "markdown",
   "id": "c22218c5",
   "metadata": {},
   "source": []
  }
 ],
 "metadata": {
  "kernelspec": {
   "display_name": "Python 3",
   "language": "python",
   "name": "python3"
  },
  "language_info": {
   "codemirror_mode": {
    "name": "ipython",
    "version": 3
   },
   "file_extension": ".py",
   "mimetype": "text/x-python",
   "name": "python",
   "nbconvert_exporter": "python",
   "pygments_lexer": "ipython3",
   "version": "3.7.4"
  }
 },
 "nbformat": 4,
 "nbformat_minor": 5
}
